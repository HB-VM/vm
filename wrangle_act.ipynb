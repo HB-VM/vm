{
  "nbformat": 4,
  "nbformat_minor": 0,
  "metadata": {
    "kernelspec": {
      "name": "python3",
      "display_name": "Python 3",
      "language": "python"
    },
    "language_info": {
      "name": "python",
      "version": "3.7.6",
      "mimetype": "text/x-python",
      "codemirror_mode": {
        "name": "ipython",
        "version": 3
      },
      "pygments_lexer": "ipython3",
      "nbconvert_exporter": "python",
      "file_extension": ".py"
    },
    "colab": {
      "name": "wrangle_act.ipynb",
      "provenance": [],
      "collapsed_sections": [
        "1-kF-Gr7D5VL",
        "hIOnmvcPD5VM",
        "73IhqgAdD5VO",
        "ceE2hNMED5VQ",
        "cmQvWxxQD5VS"
      ],
      "toc_visible": true,
      "include_colab_link": true
    }
  },
  "cells": [
    {
      "cell_type": "markdown",
      "metadata": {
        "id": "view-in-github",
        "colab_type": "text"
      },
      "source": [
        "<a href=\"https://colab.research.google.com/github/HB-VM/vm/blob/master/wrangle_act.ipynb\" target=\"_parent\"><img src=\"https://colab.research.google.com/assets/colab-badge.svg\" alt=\"Open In Colab\"/></a>"
      ]
    },
    {
      "cell_type": "markdown",
      "metadata": {
        "id": "cKf721VPD5Qs",
        "colab_type": "text"
      },
      "source": [
        "# Project :- Data wrangling\n",
        "By Aditya"
      ]
    },
    {
      "cell_type": "markdown",
      "metadata": {
        "id": "asTitqAPD5Qx",
        "colab_type": "text"
      },
      "source": [
        "<a id='gather'></a>\n",
        "## Gathering data"
      ]
    },
    {
      "cell_type": "markdown",
      "metadata": {
        "id": "mKY4rjwuD5Qz",
        "colab_type": "text"
      },
      "source": [
        "**1. Twitter archive file**"
      ]
    },
    {
      "cell_type": "code",
      "metadata": {
        "trusted": true,
        "id": "FROy4YnaD5Q0",
        "colab_type": "code",
        "colab": {}
      },
      "source": [
        "#Import all packages needed\n",
        "import pandas as pd\n",
        "import numpy as np\n",
        "import matplotlib.pyplot as plt\n",
        "%matplotlib inline\n",
        "import requests\n",
        "import tweepy \n",
        "import json "
      ],
      "execution_count": 0,
      "outputs": []
    },
    {
      "cell_type": "code",
      "metadata": {
        "id": "WgGOWYyfD5Q-",
        "colab_type": "code",
        "colab": {}
      },
      "source": [
        "#Read CSV file \n",
        "arch = pd.read_csv('/content/twitter_archive_enhanced.csv')"
      ],
      "execution_count": 0,
      "outputs": []
    },
    {
      "cell_type": "code",
      "metadata": {
        "id": "krobSTLfD5RH",
        "colab_type": "code",
        "colab": {
          "base_uri": "https://localhost:8080/",
          "height": 581
        },
        "outputId": "087dffb4-9648-4173-db01-e3e74ae22985"
      },
      "source": [
        "arch.sort_values('timestamp')\n",
        "arch.head()"
      ],
      "execution_count": 5,
      "outputs": [
        {
          "output_type": "execute_result",
          "data": {
            "text/html": [
              "<div>\n",
              "<style scoped>\n",
              "    .dataframe tbody tr th:only-of-type {\n",
              "        vertical-align: middle;\n",
              "    }\n",
              "\n",
              "    .dataframe tbody tr th {\n",
              "        vertical-align: top;\n",
              "    }\n",
              "\n",
              "    .dataframe thead th {\n",
              "        text-align: right;\n",
              "    }\n",
              "</style>\n",
              "<table border=\"1\" class=\"dataframe\">\n",
              "  <thead>\n",
              "    <tr style=\"text-align: right;\">\n",
              "      <th></th>\n",
              "      <th>tweet_id</th>\n",
              "      <th>in_reply_to_status_id</th>\n",
              "      <th>in_reply_to_user_id</th>\n",
              "      <th>timestamp</th>\n",
              "      <th>source</th>\n",
              "      <th>text</th>\n",
              "      <th>retweeted_status_id</th>\n",
              "      <th>retweeted_status_user_id</th>\n",
              "      <th>retweeted_status_timestamp</th>\n",
              "      <th>expanded_urls</th>\n",
              "      <th>rating_numerator</th>\n",
              "      <th>rating_denominator</th>\n",
              "      <th>name</th>\n",
              "      <th>doggo</th>\n",
              "      <th>floofer</th>\n",
              "      <th>pupper</th>\n",
              "      <th>puppo</th>\n",
              "    </tr>\n",
              "  </thead>\n",
              "  <tbody>\n",
              "    <tr>\n",
              "      <th>0</th>\n",
              "      <td>892420643555336193</td>\n",
              "      <td>NaN</td>\n",
              "      <td>NaN</td>\n",
              "      <td>2017-08-01 16:23:56 +0000</td>\n",
              "      <td>&lt;a href=\"http://twitter.com/download/iphone\" r...</td>\n",
              "      <td>This is Phineas. He's a mystical boy. Only eve...</td>\n",
              "      <td>NaN</td>\n",
              "      <td>NaN</td>\n",
              "      <td>NaN</td>\n",
              "      <td>https://twitter.com/dog_rates/status/892420643...</td>\n",
              "      <td>13</td>\n",
              "      <td>10</td>\n",
              "      <td>Phineas</td>\n",
              "      <td>None</td>\n",
              "      <td>None</td>\n",
              "      <td>None</td>\n",
              "      <td>None</td>\n",
              "    </tr>\n",
              "    <tr>\n",
              "      <th>1</th>\n",
              "      <td>892177421306343426</td>\n",
              "      <td>NaN</td>\n",
              "      <td>NaN</td>\n",
              "      <td>2017-08-01 00:17:27 +0000</td>\n",
              "      <td>&lt;a href=\"http://twitter.com/download/iphone\" r...</td>\n",
              "      <td>This is Tilly. She's just checking pup on you....</td>\n",
              "      <td>NaN</td>\n",
              "      <td>NaN</td>\n",
              "      <td>NaN</td>\n",
              "      <td>https://twitter.com/dog_rates/status/892177421...</td>\n",
              "      <td>13</td>\n",
              "      <td>10</td>\n",
              "      <td>Tilly</td>\n",
              "      <td>None</td>\n",
              "      <td>None</td>\n",
              "      <td>None</td>\n",
              "      <td>None</td>\n",
              "    </tr>\n",
              "    <tr>\n",
              "      <th>2</th>\n",
              "      <td>891815181378084864</td>\n",
              "      <td>NaN</td>\n",
              "      <td>NaN</td>\n",
              "      <td>2017-07-31 00:18:03 +0000</td>\n",
              "      <td>&lt;a href=\"http://twitter.com/download/iphone\" r...</td>\n",
              "      <td>This is Archie. He is a rare Norwegian Pouncin...</td>\n",
              "      <td>NaN</td>\n",
              "      <td>NaN</td>\n",
              "      <td>NaN</td>\n",
              "      <td>https://twitter.com/dog_rates/status/891815181...</td>\n",
              "      <td>12</td>\n",
              "      <td>10</td>\n",
              "      <td>Archie</td>\n",
              "      <td>None</td>\n",
              "      <td>None</td>\n",
              "      <td>None</td>\n",
              "      <td>None</td>\n",
              "    </tr>\n",
              "    <tr>\n",
              "      <th>3</th>\n",
              "      <td>891689557279858688</td>\n",
              "      <td>NaN</td>\n",
              "      <td>NaN</td>\n",
              "      <td>2017-07-30 15:58:51 +0000</td>\n",
              "      <td>&lt;a href=\"http://twitter.com/download/iphone\" r...</td>\n",
              "      <td>This is Darla. She commenced a snooze mid meal...</td>\n",
              "      <td>NaN</td>\n",
              "      <td>NaN</td>\n",
              "      <td>NaN</td>\n",
              "      <td>https://twitter.com/dog_rates/status/891689557...</td>\n",
              "      <td>13</td>\n",
              "      <td>10</td>\n",
              "      <td>Darla</td>\n",
              "      <td>None</td>\n",
              "      <td>None</td>\n",
              "      <td>None</td>\n",
              "      <td>None</td>\n",
              "    </tr>\n",
              "    <tr>\n",
              "      <th>4</th>\n",
              "      <td>891327558926688256</td>\n",
              "      <td>NaN</td>\n",
              "      <td>NaN</td>\n",
              "      <td>2017-07-29 16:00:24 +0000</td>\n",
              "      <td>&lt;a href=\"http://twitter.com/download/iphone\" r...</td>\n",
              "      <td>This is Franklin. He would like you to stop ca...</td>\n",
              "      <td>NaN</td>\n",
              "      <td>NaN</td>\n",
              "      <td>NaN</td>\n",
              "      <td>https://twitter.com/dog_rates/status/891327558...</td>\n",
              "      <td>12</td>\n",
              "      <td>10</td>\n",
              "      <td>Franklin</td>\n",
              "      <td>None</td>\n",
              "      <td>None</td>\n",
              "      <td>None</td>\n",
              "      <td>None</td>\n",
              "    </tr>\n",
              "  </tbody>\n",
              "</table>\n",
              "</div>"
            ],
            "text/plain": [
              "             tweet_id  in_reply_to_status_id  ...  pupper puppo\n",
              "0  892420643555336193                    NaN  ...    None  None\n",
              "1  892177421306343426                    NaN  ...    None  None\n",
              "2  891815181378084864                    NaN  ...    None  None\n",
              "3  891689557279858688                    NaN  ...    None  None\n",
              "4  891327558926688256                    NaN  ...    None  None\n",
              "\n",
              "[5 rows x 17 columns]"
            ]
          },
          "metadata": {
            "tags": []
          },
          "execution_count": 5
        }
      ]
    },
    {
      "cell_type": "code",
      "metadata": {
        "id": "dv0aYtL7D5RP",
        "colab_type": "code",
        "colab": {
          "base_uri": "https://localhost:8080/",
          "height": 425
        },
        "outputId": "8bcea48b-da3b-462d-d3ca-4e5bece42e12"
      },
      "source": [
        "arch.info()"
      ],
      "execution_count": 6,
      "outputs": [
        {
          "output_type": "stream",
          "text": [
            "<class 'pandas.core.frame.DataFrame'>\n",
            "RangeIndex: 2356 entries, 0 to 2355\n",
            "Data columns (total 17 columns):\n",
            " #   Column                      Non-Null Count  Dtype  \n",
            "---  ------                      --------------  -----  \n",
            " 0   tweet_id                    2356 non-null   int64  \n",
            " 1   in_reply_to_status_id       78 non-null     float64\n",
            " 2   in_reply_to_user_id         78 non-null     float64\n",
            " 3   timestamp                   2356 non-null   object \n",
            " 4   source                      2356 non-null   object \n",
            " 5   text                        2356 non-null   object \n",
            " 6   retweeted_status_id         181 non-null    float64\n",
            " 7   retweeted_status_user_id    181 non-null    float64\n",
            " 8   retweeted_status_timestamp  181 non-null    object \n",
            " 9   expanded_urls               2297 non-null   object \n",
            " 10  rating_numerator            2356 non-null   int64  \n",
            " 11  rating_denominator          2356 non-null   int64  \n",
            " 12  name                        2356 non-null   object \n",
            " 13  doggo                       2356 non-null   object \n",
            " 14  floofer                     2356 non-null   object \n",
            " 15  pupper                      2356 non-null   object \n",
            " 16  puppo                       2356 non-null   object \n",
            "dtypes: float64(4), int64(3), object(10)\n",
            "memory usage: 313.0+ KB\n"
          ],
          "name": "stdout"
        }
      ]
    },
    {
      "cell_type": "markdown",
      "metadata": {
        "id": "RZGGWXYJD5RY",
        "colab_type": "text"
      },
      "source": [
        "**2. Tweet image prediction**"
      ]
    },
    {
      "cell_type": "code",
      "metadata": {
        "id": "14HAEtpZD5Ra",
        "colab_type": "code",
        "colab": {}
      },
      "source": [
        "#URL downloaded programatically \n",
        "url = \"https://d17h27t6h515a5.cloudfront.net/topher/2017/August/599fd2ad_image-predictions/image-predictions.tsv\"\n",
        "response = requests.get(url)\n",
        "\n",
        "with open('image-predictions.tsv', mode ='wb') as file:\n",
        "    file.write(response.content)\n",
        "\n",
        "#Read TSV file\n",
        "image_prediction = pd.read_csv('/content/image_predictions.tsv', sep='\\t' )"
      ],
      "execution_count": 0,
      "outputs": []
    },
    {
      "cell_type": "code",
      "metadata": {
        "id": "l4e1wINTD5Ri",
        "colab_type": "code",
        "colab": {}
      },
      "source": [
        "#https://stackoverflow.com/questions/28384588/twitter-api-get-tweets-with-specific-id\n",
        "\n",
        "auth = tweepy.OAuthHandler('5Uur0mo4ol2kB8yhtZ1VxXS0u', 'h8E7fSpXWiMoBel7G1ZOAeu4Mgru0v0MtxH5ehYE1RKM89SiBH')\n",
        "auth.set_access_token('303562412-ct9aNnU0FQR0UKJVn1i1W3Y8omqSewiQWUcRaygB', 'D3qslrbdOU5fqTOp951kOIuZbkeTPBodnjNYoEGFR63Ft')\n",
        "api = tweepy.API(auth, \n",
        "                 parser = tweepy.parsers.JSONParser(), \n",
        "                 wait_on_rate_limit = True, \n",
        "                 wait_on_rate_limit_notify = True)\n"
      ],
      "execution_count": 0,
      "outputs": []
    },
    {
      "cell_type": "markdown",
      "metadata": {
        "id": "vCbChSZ2D5Rr",
        "colab_type": "text"
      },
      "source": [
        "**3. Twitter API & JSON**"
      ]
    },
    {
      "cell_type": "code",
      "metadata": {
        "id": "vKB7hlAmD5Rt",
        "colab_type": "code",
        "colab": {
          "base_uri": "https://localhost:8080/",
          "height": 51
        },
        "outputId": "aca2f990-d85c-436b-fb32-7b483c49cb70"
      },
      "source": [
        "#Download Tweepy status object based on Tweet ID and store in list\n",
        "list_of_tweets = []\n",
        "# Tweets that can't be found are saved in the list below:\n",
        "cant_find_tweets_for_those_ids = []\n",
        "for tweet_id in arch['tweet_id']:   \n",
        "    try:\n",
        "        list_of_tweets.append(api.get_status(tweet_id))\n",
        "    except Exception as e:\n",
        "        cant_find_tweets_for_those_ids.append(tweet_id)"
      ],
      "execution_count": 10,
      "outputs": [
        {
          "output_type": "stream",
          "text": [
            "Rate limit reached. Sleeping for: 744\n",
            "Rate limit reached. Sleeping for: 748\n"
          ],
          "name": "stderr"
        }
      ]
    },
    {
      "cell_type": "code",
      "metadata": {
        "id": "f-dPsgC3D5R2",
        "colab_type": "code",
        "colab": {
          "base_uri": "https://localhost:8080/",
          "height": 51
        },
        "outputId": "3d50e57d-6b35-43ac-a3e5-28eab0c0a188"
      },
      "source": [
        "print(\"The list of tweets\" ,len(list_of_tweets))\n",
        "print(\"The list of tweets no found\" , len(cant_find_tweets_for_those_ids))"
      ],
      "execution_count": 11,
      "outputs": [
        {
          "output_type": "stream",
          "text": [
            "The list of tweets 2330\n",
            "The list of tweets no found 26\n"
          ],
          "name": "stdout"
        }
      ]
    },
    {
      "cell_type": "code",
      "metadata": {
        "id": "px9GRUhTD5R9",
        "colab_type": "code",
        "colab": {}
      },
      "source": [
        "#Then in this code block we isolate the json part of each tweepy \n",
        "#status object that we have downloaded and we add them all into a list\n",
        "\n",
        "my_list_of_dicts = []\n",
        "for each_json_tweet in list_of_tweets:\n",
        "    my_list_of_dicts.append(each_json_tweet)"
      ],
      "execution_count": 0,
      "outputs": []
    },
    {
      "cell_type": "code",
      "metadata": {
        "id": "xTUiM6NZD5SF",
        "colab_type": "code",
        "colab": {}
      },
      "source": [
        "#we write this list into a txt file:\n",
        "\n",
        "with open('tweet_json.txt', 'w') as file:\n",
        "        file.write(json.dumps(my_list_of_dicts, indent=4))"
      ],
      "execution_count": 0,
      "outputs": []
    },
    {
      "cell_type": "code",
      "metadata": {
        "id": "jXUOX3bOD5SO",
        "colab_type": "code",
        "colab": {}
      },
      "source": [
        "#identify information of interest from JSON dictionaries in txt file\n",
        "#and put it in a dataframe called tweet JSON\n",
        "my_demo_list = []\n",
        "with open('tweet_json.txt', encoding='utf-8') as json_file:  \n",
        "    all_data = json.load(json_file)\n",
        "    for each_dictionary in all_data:\n",
        "        tweet_id = each_dictionary['id']\n",
        "        whole_tweet = each_dictionary['text']\n",
        "        only_url = whole_tweet[whole_tweet.find('https'):]\n",
        "        favorite_count = each_dictionary['favorite_count']\n",
        "        retweet_count = each_dictionary['retweet_count']\n",
        "        followers_count = each_dictionary['user']['followers_count']\n",
        "        friends_count = each_dictionary['user']['friends_count']\n",
        "        whole_source = each_dictionary['source']\n",
        "        only_device = whole_source[whole_source.find('rel=\"nofollow\">') + 15:-4]\n",
        "        source = only_device\n",
        "        retweeted_status = each_dictionary['retweeted_status'] = each_dictionary.get('retweeted_status', 'Original tweet')\n",
        "        if retweeted_status == 'Original tweet':\n",
        "            url = only_url\n",
        "        else:\n",
        "            retweeted_status = 'This is a retweet'\n",
        "            url = 'This is a retweet'\n",
        "\n",
        "        my_demo_list.append({'tweet_id': str(tweet_id),\n",
        "                             'favorite_count': int(favorite_count),\n",
        "                             'retweet_count': int(retweet_count),\n",
        "                             'followers_count': int(followers_count),\n",
        "                             'friends_count': int(friends_count),\n",
        "                             'url': url,\n",
        "                             'source': source,\n",
        "                             'retweeted_status': retweeted_status,\n",
        "                            })\n",
        "        tweet_json = pd.DataFrame(my_demo_list, columns = ['tweet_id', 'favorite_count','retweet_count', \n",
        "                                                           'followers_count', 'friends_count','source', \n",
        "                                                           'retweeted_status', 'url'])\n"
      ],
      "execution_count": 0,
      "outputs": []
    },
    {
      "cell_type": "code",
      "metadata": {
        "id": "JQ0gCuQ2D5SX",
        "colab_type": "code",
        "colab": {
          "base_uri": "https://localhost:8080/",
          "height": 272
        },
        "outputId": "c122f613-f4b6-4b8f-c3fb-7b464fe24263"
      },
      "source": [
        "tweet_json.info()"
      ],
      "execution_count": 15,
      "outputs": [
        {
          "output_type": "stream",
          "text": [
            "<class 'pandas.core.frame.DataFrame'>\n",
            "RangeIndex: 2330 entries, 0 to 2329\n",
            "Data columns (total 8 columns):\n",
            " #   Column            Non-Null Count  Dtype \n",
            "---  ------            --------------  ----- \n",
            " 0   tweet_id          2330 non-null   object\n",
            " 1   favorite_count    2330 non-null   int64 \n",
            " 2   retweet_count     2330 non-null   int64 \n",
            " 3   followers_count   2330 non-null   int64 \n",
            " 4   friends_count     2330 non-null   int64 \n",
            " 5   source            2330 non-null   object\n",
            " 6   retweeted_status  2330 non-null   object\n",
            " 7   url               2330 non-null   object\n",
            "dtypes: int64(4), object(4)\n",
            "memory usage: 145.8+ KB\n"
          ],
          "name": "stdout"
        }
      ]
    },
    {
      "cell_type": "markdown",
      "metadata": {
        "id": "DaogcltpD5Se",
        "colab_type": "text"
      },
      "source": [
        "<a id='assess'></a>\n",
        "## Assessing data"
      ]
    },
    {
      "cell_type": "markdown",
      "metadata": {
        "id": "pR219BctD5Sg",
        "colab_type": "text"
      },
      "source": [
        "### Visual assessment"
      ]
    },
    {
      "cell_type": "code",
      "metadata": {
        "id": "wqqJDqFLD5Sh",
        "colab_type": "code",
        "colab": {
          "base_uri": "https://localhost:8080/",
          "height": 1000
        },
        "outputId": "395b20aa-dfbc-40c3-f7de-2b7db4f62d02"
      },
      "source": [
        "##twitter_archive\n",
        "arch"
      ],
      "execution_count": 16,
      "outputs": [
        {
          "output_type": "execute_result",
          "data": {
            "text/html": [
              "<div>\n",
              "<style scoped>\n",
              "    .dataframe tbody tr th:only-of-type {\n",
              "        vertical-align: middle;\n",
              "    }\n",
              "\n",
              "    .dataframe tbody tr th {\n",
              "        vertical-align: top;\n",
              "    }\n",
              "\n",
              "    .dataframe thead th {\n",
              "        text-align: right;\n",
              "    }\n",
              "</style>\n",
              "<table border=\"1\" class=\"dataframe\">\n",
              "  <thead>\n",
              "    <tr style=\"text-align: right;\">\n",
              "      <th></th>\n",
              "      <th>tweet_id</th>\n",
              "      <th>in_reply_to_status_id</th>\n",
              "      <th>in_reply_to_user_id</th>\n",
              "      <th>timestamp</th>\n",
              "      <th>source</th>\n",
              "      <th>text</th>\n",
              "      <th>retweeted_status_id</th>\n",
              "      <th>retweeted_status_user_id</th>\n",
              "      <th>retweeted_status_timestamp</th>\n",
              "      <th>expanded_urls</th>\n",
              "      <th>rating_numerator</th>\n",
              "      <th>rating_denominator</th>\n",
              "      <th>name</th>\n",
              "      <th>doggo</th>\n",
              "      <th>floofer</th>\n",
              "      <th>pupper</th>\n",
              "      <th>puppo</th>\n",
              "    </tr>\n",
              "  </thead>\n",
              "  <tbody>\n",
              "    <tr>\n",
              "      <th>0</th>\n",
              "      <td>892420643555336193</td>\n",
              "      <td>NaN</td>\n",
              "      <td>NaN</td>\n",
              "      <td>2017-08-01 16:23:56 +0000</td>\n",
              "      <td>&lt;a href=\"http://twitter.com/download/iphone\" r...</td>\n",
              "      <td>This is Phineas. He's a mystical boy. Only eve...</td>\n",
              "      <td>NaN</td>\n",
              "      <td>NaN</td>\n",
              "      <td>NaN</td>\n",
              "      <td>https://twitter.com/dog_rates/status/892420643...</td>\n",
              "      <td>13</td>\n",
              "      <td>10</td>\n",
              "      <td>Phineas</td>\n",
              "      <td>None</td>\n",
              "      <td>None</td>\n",
              "      <td>None</td>\n",
              "      <td>None</td>\n",
              "    </tr>\n",
              "    <tr>\n",
              "      <th>1</th>\n",
              "      <td>892177421306343426</td>\n",
              "      <td>NaN</td>\n",
              "      <td>NaN</td>\n",
              "      <td>2017-08-01 00:17:27 +0000</td>\n",
              "      <td>&lt;a href=\"http://twitter.com/download/iphone\" r...</td>\n",
              "      <td>This is Tilly. She's just checking pup on you....</td>\n",
              "      <td>NaN</td>\n",
              "      <td>NaN</td>\n",
              "      <td>NaN</td>\n",
              "      <td>https://twitter.com/dog_rates/status/892177421...</td>\n",
              "      <td>13</td>\n",
              "      <td>10</td>\n",
              "      <td>Tilly</td>\n",
              "      <td>None</td>\n",
              "      <td>None</td>\n",
              "      <td>None</td>\n",
              "      <td>None</td>\n",
              "    </tr>\n",
              "    <tr>\n",
              "      <th>2</th>\n",
              "      <td>891815181378084864</td>\n",
              "      <td>NaN</td>\n",
              "      <td>NaN</td>\n",
              "      <td>2017-07-31 00:18:03 +0000</td>\n",
              "      <td>&lt;a href=\"http://twitter.com/download/iphone\" r...</td>\n",
              "      <td>This is Archie. He is a rare Norwegian Pouncin...</td>\n",
              "      <td>NaN</td>\n",
              "      <td>NaN</td>\n",
              "      <td>NaN</td>\n",
              "      <td>https://twitter.com/dog_rates/status/891815181...</td>\n",
              "      <td>12</td>\n",
              "      <td>10</td>\n",
              "      <td>Archie</td>\n",
              "      <td>None</td>\n",
              "      <td>None</td>\n",
              "      <td>None</td>\n",
              "      <td>None</td>\n",
              "    </tr>\n",
              "    <tr>\n",
              "      <th>3</th>\n",
              "      <td>891689557279858688</td>\n",
              "      <td>NaN</td>\n",
              "      <td>NaN</td>\n",
              "      <td>2017-07-30 15:58:51 +0000</td>\n",
              "      <td>&lt;a href=\"http://twitter.com/download/iphone\" r...</td>\n",
              "      <td>This is Darla. She commenced a snooze mid meal...</td>\n",
              "      <td>NaN</td>\n",
              "      <td>NaN</td>\n",
              "      <td>NaN</td>\n",
              "      <td>https://twitter.com/dog_rates/status/891689557...</td>\n",
              "      <td>13</td>\n",
              "      <td>10</td>\n",
              "      <td>Darla</td>\n",
              "      <td>None</td>\n",
              "      <td>None</td>\n",
              "      <td>None</td>\n",
              "      <td>None</td>\n",
              "    </tr>\n",
              "    <tr>\n",
              "      <th>4</th>\n",
              "      <td>891327558926688256</td>\n",
              "      <td>NaN</td>\n",
              "      <td>NaN</td>\n",
              "      <td>2017-07-29 16:00:24 +0000</td>\n",
              "      <td>&lt;a href=\"http://twitter.com/download/iphone\" r...</td>\n",
              "      <td>This is Franklin. He would like you to stop ca...</td>\n",
              "      <td>NaN</td>\n",
              "      <td>NaN</td>\n",
              "      <td>NaN</td>\n",
              "      <td>https://twitter.com/dog_rates/status/891327558...</td>\n",
              "      <td>12</td>\n",
              "      <td>10</td>\n",
              "      <td>Franklin</td>\n",
              "      <td>None</td>\n",
              "      <td>None</td>\n",
              "      <td>None</td>\n",
              "      <td>None</td>\n",
              "    </tr>\n",
              "    <tr>\n",
              "      <th>...</th>\n",
              "      <td>...</td>\n",
              "      <td>...</td>\n",
              "      <td>...</td>\n",
              "      <td>...</td>\n",
              "      <td>...</td>\n",
              "      <td>...</td>\n",
              "      <td>...</td>\n",
              "      <td>...</td>\n",
              "      <td>...</td>\n",
              "      <td>...</td>\n",
              "      <td>...</td>\n",
              "      <td>...</td>\n",
              "      <td>...</td>\n",
              "      <td>...</td>\n",
              "      <td>...</td>\n",
              "      <td>...</td>\n",
              "      <td>...</td>\n",
              "    </tr>\n",
              "    <tr>\n",
              "      <th>2351</th>\n",
              "      <td>666049248165822465</td>\n",
              "      <td>NaN</td>\n",
              "      <td>NaN</td>\n",
              "      <td>2015-11-16 00:24:50 +0000</td>\n",
              "      <td>&lt;a href=\"http://twitter.com/download/iphone\" r...</td>\n",
              "      <td>Here we have a 1949 1st generation vulpix. Enj...</td>\n",
              "      <td>NaN</td>\n",
              "      <td>NaN</td>\n",
              "      <td>NaN</td>\n",
              "      <td>https://twitter.com/dog_rates/status/666049248...</td>\n",
              "      <td>5</td>\n",
              "      <td>10</td>\n",
              "      <td>None</td>\n",
              "      <td>None</td>\n",
              "      <td>None</td>\n",
              "      <td>None</td>\n",
              "      <td>None</td>\n",
              "    </tr>\n",
              "    <tr>\n",
              "      <th>2352</th>\n",
              "      <td>666044226329800704</td>\n",
              "      <td>NaN</td>\n",
              "      <td>NaN</td>\n",
              "      <td>2015-11-16 00:04:52 +0000</td>\n",
              "      <td>&lt;a href=\"http://twitter.com/download/iphone\" r...</td>\n",
              "      <td>This is a purebred Piers Morgan. Loves to Netf...</td>\n",
              "      <td>NaN</td>\n",
              "      <td>NaN</td>\n",
              "      <td>NaN</td>\n",
              "      <td>https://twitter.com/dog_rates/status/666044226...</td>\n",
              "      <td>6</td>\n",
              "      <td>10</td>\n",
              "      <td>a</td>\n",
              "      <td>None</td>\n",
              "      <td>None</td>\n",
              "      <td>None</td>\n",
              "      <td>None</td>\n",
              "    </tr>\n",
              "    <tr>\n",
              "      <th>2353</th>\n",
              "      <td>666033412701032449</td>\n",
              "      <td>NaN</td>\n",
              "      <td>NaN</td>\n",
              "      <td>2015-11-15 23:21:54 +0000</td>\n",
              "      <td>&lt;a href=\"http://twitter.com/download/iphone\" r...</td>\n",
              "      <td>Here is a very happy pup. Big fan of well-main...</td>\n",
              "      <td>NaN</td>\n",
              "      <td>NaN</td>\n",
              "      <td>NaN</td>\n",
              "      <td>https://twitter.com/dog_rates/status/666033412...</td>\n",
              "      <td>9</td>\n",
              "      <td>10</td>\n",
              "      <td>a</td>\n",
              "      <td>None</td>\n",
              "      <td>None</td>\n",
              "      <td>None</td>\n",
              "      <td>None</td>\n",
              "    </tr>\n",
              "    <tr>\n",
              "      <th>2354</th>\n",
              "      <td>666029285002620928</td>\n",
              "      <td>NaN</td>\n",
              "      <td>NaN</td>\n",
              "      <td>2015-11-15 23:05:30 +0000</td>\n",
              "      <td>&lt;a href=\"http://twitter.com/download/iphone\" r...</td>\n",
              "      <td>This is a western brown Mitsubishi terrier. Up...</td>\n",
              "      <td>NaN</td>\n",
              "      <td>NaN</td>\n",
              "      <td>NaN</td>\n",
              "      <td>https://twitter.com/dog_rates/status/666029285...</td>\n",
              "      <td>7</td>\n",
              "      <td>10</td>\n",
              "      <td>a</td>\n",
              "      <td>None</td>\n",
              "      <td>None</td>\n",
              "      <td>None</td>\n",
              "      <td>None</td>\n",
              "    </tr>\n",
              "    <tr>\n",
              "      <th>2355</th>\n",
              "      <td>666020888022790149</td>\n",
              "      <td>NaN</td>\n",
              "      <td>NaN</td>\n",
              "      <td>2015-11-15 22:32:08 +0000</td>\n",
              "      <td>&lt;a href=\"http://twitter.com/download/iphone\" r...</td>\n",
              "      <td>Here we have a Japanese Irish Setter. Lost eye...</td>\n",
              "      <td>NaN</td>\n",
              "      <td>NaN</td>\n",
              "      <td>NaN</td>\n",
              "      <td>https://twitter.com/dog_rates/status/666020888...</td>\n",
              "      <td>8</td>\n",
              "      <td>10</td>\n",
              "      <td>None</td>\n",
              "      <td>None</td>\n",
              "      <td>None</td>\n",
              "      <td>None</td>\n",
              "      <td>None</td>\n",
              "    </tr>\n",
              "  </tbody>\n",
              "</table>\n",
              "<p>2356 rows × 17 columns</p>\n",
              "</div>"
            ],
            "text/plain": [
              "                tweet_id  in_reply_to_status_id  ...  pupper puppo\n",
              "0     892420643555336193                    NaN  ...    None  None\n",
              "1     892177421306343426                    NaN  ...    None  None\n",
              "2     891815181378084864                    NaN  ...    None  None\n",
              "3     891689557279858688                    NaN  ...    None  None\n",
              "4     891327558926688256                    NaN  ...    None  None\n",
              "...                  ...                    ...  ...     ...   ...\n",
              "2351  666049248165822465                    NaN  ...    None  None\n",
              "2352  666044226329800704                    NaN  ...    None  None\n",
              "2353  666033412701032449                    NaN  ...    None  None\n",
              "2354  666029285002620928                    NaN  ...    None  None\n",
              "2355  666020888022790149                    NaN  ...    None  None\n",
              "\n",
              "[2356 rows x 17 columns]"
            ]
          },
          "metadata": {
            "tags": []
          },
          "execution_count": 16
        }
      ]
    },
    {
      "cell_type": "code",
      "metadata": {
        "id": "9hou1xygD5So",
        "colab_type": "code",
        "colab": {
          "base_uri": "https://localhost:8080/",
          "height": 456
        },
        "outputId": "c71abdc0-083d-4219-cb9d-8a63d3670b6d"
      },
      "source": [
        "image_prediction"
      ],
      "execution_count": 17,
      "outputs": [
        {
          "output_type": "execute_result",
          "data": {
            "text/html": [
              "<div>\n",
              "<style scoped>\n",
              "    .dataframe tbody tr th:only-of-type {\n",
              "        vertical-align: middle;\n",
              "    }\n",
              "\n",
              "    .dataframe tbody tr th {\n",
              "        vertical-align: top;\n",
              "    }\n",
              "\n",
              "    .dataframe thead th {\n",
              "        text-align: right;\n",
              "    }\n",
              "</style>\n",
              "<table border=\"1\" class=\"dataframe\">\n",
              "  <thead>\n",
              "    <tr style=\"text-align: right;\">\n",
              "      <th></th>\n",
              "      <th>tweet_id</th>\n",
              "      <th>jpg_url</th>\n",
              "      <th>img_num</th>\n",
              "      <th>p1</th>\n",
              "      <th>p1_conf</th>\n",
              "      <th>p1_dog</th>\n",
              "      <th>p2</th>\n",
              "      <th>p2_conf</th>\n",
              "      <th>p2_dog</th>\n",
              "      <th>p3</th>\n",
              "      <th>p3_conf</th>\n",
              "      <th>p3_dog</th>\n",
              "    </tr>\n",
              "  </thead>\n",
              "  <tbody>\n",
              "    <tr>\n",
              "      <th>0</th>\n",
              "      <td>666020888022790149</td>\n",
              "      <td>https://pbs.twimg.com/media/CT4udn0WwAA0aMy.jpg</td>\n",
              "      <td>1</td>\n",
              "      <td>Welsh_springer_spaniel</td>\n",
              "      <td>0.465074</td>\n",
              "      <td>True</td>\n",
              "      <td>collie</td>\n",
              "      <td>0.156665</td>\n",
              "      <td>True</td>\n",
              "      <td>Shetland_sheepdog</td>\n",
              "      <td>0.061428</td>\n",
              "      <td>True</td>\n",
              "    </tr>\n",
              "    <tr>\n",
              "      <th>1</th>\n",
              "      <td>666029285002620928</td>\n",
              "      <td>https://pbs.twimg.com/media/CT42GRgUYAA5iDo.jpg</td>\n",
              "      <td>1</td>\n",
              "      <td>redbone</td>\n",
              "      <td>0.506826</td>\n",
              "      <td>True</td>\n",
              "      <td>miniature_pinscher</td>\n",
              "      <td>0.074192</td>\n",
              "      <td>True</td>\n",
              "      <td>Rhodesian_ridgeback</td>\n",
              "      <td>0.072010</td>\n",
              "      <td>True</td>\n",
              "    </tr>\n",
              "    <tr>\n",
              "      <th>2</th>\n",
              "      <td>666033412701032449</td>\n",
              "      <td>https://pbs.twimg.com/media/CT4521TWwAEvMyu.jpg</td>\n",
              "      <td>1</td>\n",
              "      <td>German_shepherd</td>\n",
              "      <td>0.596461</td>\n",
              "      <td>True</td>\n",
              "      <td>malinois</td>\n",
              "      <td>0.138584</td>\n",
              "      <td>True</td>\n",
              "      <td>bloodhound</td>\n",
              "      <td>0.116197</td>\n",
              "      <td>True</td>\n",
              "    </tr>\n",
              "    <tr>\n",
              "      <th>3</th>\n",
              "      <td>666044226329800704</td>\n",
              "      <td>https://pbs.twimg.com/media/CT5Dr8HUEAA-lEu.jpg</td>\n",
              "      <td>1</td>\n",
              "      <td>Rhodesian_ridgeback</td>\n",
              "      <td>0.408143</td>\n",
              "      <td>True</td>\n",
              "      <td>redbone</td>\n",
              "      <td>0.360687</td>\n",
              "      <td>True</td>\n",
              "      <td>miniature_pinscher</td>\n",
              "      <td>0.222752</td>\n",
              "      <td>True</td>\n",
              "    </tr>\n",
              "    <tr>\n",
              "      <th>4</th>\n",
              "      <td>666049248165822465</td>\n",
              "      <td>https://pbs.twimg.com/media/CT5IQmsXIAAKY4A.jpg</td>\n",
              "      <td>1</td>\n",
              "      <td>miniature_pinscher</td>\n",
              "      <td>0.560311</td>\n",
              "      <td>True</td>\n",
              "      <td>Rottweiler</td>\n",
              "      <td>0.243682</td>\n",
              "      <td>True</td>\n",
              "      <td>Doberman</td>\n",
              "      <td>0.154629</td>\n",
              "      <td>True</td>\n",
              "    </tr>\n",
              "    <tr>\n",
              "      <th>...</th>\n",
              "      <td>...</td>\n",
              "      <td>...</td>\n",
              "      <td>...</td>\n",
              "      <td>...</td>\n",
              "      <td>...</td>\n",
              "      <td>...</td>\n",
              "      <td>...</td>\n",
              "      <td>...</td>\n",
              "      <td>...</td>\n",
              "      <td>...</td>\n",
              "      <td>...</td>\n",
              "      <td>...</td>\n",
              "    </tr>\n",
              "    <tr>\n",
              "      <th>2070</th>\n",
              "      <td>891327558926688256</td>\n",
              "      <td>https://pbs.twimg.com/media/DF6hr6BUMAAzZgT.jpg</td>\n",
              "      <td>2</td>\n",
              "      <td>basset</td>\n",
              "      <td>0.555712</td>\n",
              "      <td>True</td>\n",
              "      <td>English_springer</td>\n",
              "      <td>0.225770</td>\n",
              "      <td>True</td>\n",
              "      <td>German_short-haired_pointer</td>\n",
              "      <td>0.175219</td>\n",
              "      <td>True</td>\n",
              "    </tr>\n",
              "    <tr>\n",
              "      <th>2071</th>\n",
              "      <td>891689557279858688</td>\n",
              "      <td>https://pbs.twimg.com/media/DF_q7IAWsAEuuN8.jpg</td>\n",
              "      <td>1</td>\n",
              "      <td>paper_towel</td>\n",
              "      <td>0.170278</td>\n",
              "      <td>False</td>\n",
              "      <td>Labrador_retriever</td>\n",
              "      <td>0.168086</td>\n",
              "      <td>True</td>\n",
              "      <td>spatula</td>\n",
              "      <td>0.040836</td>\n",
              "      <td>False</td>\n",
              "    </tr>\n",
              "    <tr>\n",
              "      <th>2072</th>\n",
              "      <td>891815181378084864</td>\n",
              "      <td>https://pbs.twimg.com/media/DGBdLU1WsAANxJ9.jpg</td>\n",
              "      <td>1</td>\n",
              "      <td>Chihuahua</td>\n",
              "      <td>0.716012</td>\n",
              "      <td>True</td>\n",
              "      <td>malamute</td>\n",
              "      <td>0.078253</td>\n",
              "      <td>True</td>\n",
              "      <td>kelpie</td>\n",
              "      <td>0.031379</td>\n",
              "      <td>True</td>\n",
              "    </tr>\n",
              "    <tr>\n",
              "      <th>2073</th>\n",
              "      <td>892177421306343426</td>\n",
              "      <td>https://pbs.twimg.com/media/DGGmoV4XsAAUL6n.jpg</td>\n",
              "      <td>1</td>\n",
              "      <td>Chihuahua</td>\n",
              "      <td>0.323581</td>\n",
              "      <td>True</td>\n",
              "      <td>Pekinese</td>\n",
              "      <td>0.090647</td>\n",
              "      <td>True</td>\n",
              "      <td>papillon</td>\n",
              "      <td>0.068957</td>\n",
              "      <td>True</td>\n",
              "    </tr>\n",
              "    <tr>\n",
              "      <th>2074</th>\n",
              "      <td>892420643555336193</td>\n",
              "      <td>https://pbs.twimg.com/media/DGKD1-bXoAAIAUK.jpg</td>\n",
              "      <td>1</td>\n",
              "      <td>orange</td>\n",
              "      <td>0.097049</td>\n",
              "      <td>False</td>\n",
              "      <td>bagel</td>\n",
              "      <td>0.085851</td>\n",
              "      <td>False</td>\n",
              "      <td>banana</td>\n",
              "      <td>0.076110</td>\n",
              "      <td>False</td>\n",
              "    </tr>\n",
              "  </tbody>\n",
              "</table>\n",
              "<p>2075 rows × 12 columns</p>\n",
              "</div>"
            ],
            "text/plain": [
              "                tweet_id  ... p3_dog\n",
              "0     666020888022790149  ...   True\n",
              "1     666029285002620928  ...   True\n",
              "2     666033412701032449  ...   True\n",
              "3     666044226329800704  ...   True\n",
              "4     666049248165822465  ...   True\n",
              "...                  ...  ...    ...\n",
              "2070  891327558926688256  ...   True\n",
              "2071  891689557279858688  ...  False\n",
              "2072  891815181378084864  ...   True\n",
              "2073  892177421306343426  ...   True\n",
              "2074  892420643555336193  ...  False\n",
              "\n",
              "[2075 rows x 12 columns]"
            ]
          },
          "metadata": {
            "tags": []
          },
          "execution_count": 17
        }
      ]
    },
    {
      "cell_type": "code",
      "metadata": {
        "id": "M462S5gxD5Sw",
        "colab_type": "code",
        "colab": {
          "base_uri": "https://localhost:8080/",
          "height": 779
        },
        "outputId": "90c52bd9-e08d-4776-ba3a-e29ef6f9b195"
      },
      "source": [
        "tweet_json"
      ],
      "execution_count": 18,
      "outputs": [
        {
          "output_type": "execute_result",
          "data": {
            "text/html": [
              "<div>\n",
              "<style scoped>\n",
              "    .dataframe tbody tr th:only-of-type {\n",
              "        vertical-align: middle;\n",
              "    }\n",
              "\n",
              "    .dataframe tbody tr th {\n",
              "        vertical-align: top;\n",
              "    }\n",
              "\n",
              "    .dataframe thead th {\n",
              "        text-align: right;\n",
              "    }\n",
              "</style>\n",
              "<table border=\"1\" class=\"dataframe\">\n",
              "  <thead>\n",
              "    <tr style=\"text-align: right;\">\n",
              "      <th></th>\n",
              "      <th>tweet_id</th>\n",
              "      <th>favorite_count</th>\n",
              "      <th>retweet_count</th>\n",
              "      <th>followers_count</th>\n",
              "      <th>friends_count</th>\n",
              "      <th>source</th>\n",
              "      <th>retweeted_status</th>\n",
              "      <th>url</th>\n",
              "    </tr>\n",
              "  </thead>\n",
              "  <tbody>\n",
              "    <tr>\n",
              "      <th>0</th>\n",
              "      <td>892420643555336193</td>\n",
              "      <td>36424</td>\n",
              "      <td>7744</td>\n",
              "      <td>8756919</td>\n",
              "      <td>15</td>\n",
              "      <td>Twitter for iPhone</td>\n",
              "      <td>Original tweet</td>\n",
              "      <td>https://t.co/MgUWQ76dJU</td>\n",
              "    </tr>\n",
              "    <tr>\n",
              "      <th>1</th>\n",
              "      <td>892177421306343426</td>\n",
              "      <td>31366</td>\n",
              "      <td>5736</td>\n",
              "      <td>8756923</td>\n",
              "      <td>15</td>\n",
              "      <td>Twitter for iPhone</td>\n",
              "      <td>Original tweet</td>\n",
              "      <td>https://t.co/aQFSeaCu9L</td>\n",
              "    </tr>\n",
              "    <tr>\n",
              "      <th>2</th>\n",
              "      <td>891815181378084864</td>\n",
              "      <td>23635</td>\n",
              "      <td>3798</td>\n",
              "      <td>8756923</td>\n",
              "      <td>15</td>\n",
              "      <td>Twitter for iPhone</td>\n",
              "      <td>Original tweet</td>\n",
              "      <td>https://t.co/r0YlrsGCgy</td>\n",
              "    </tr>\n",
              "    <tr>\n",
              "      <th>3</th>\n",
              "      <td>891689557279858688</td>\n",
              "      <td>39742</td>\n",
              "      <td>7910</td>\n",
              "      <td>8756923</td>\n",
              "      <td>15</td>\n",
              "      <td>Twitter for iPhone</td>\n",
              "      <td>Original tweet</td>\n",
              "      <td>https://t.co/tD36da7qLQ</td>\n",
              "    </tr>\n",
              "    <tr>\n",
              "      <th>4</th>\n",
              "      <td>891327558926688256</td>\n",
              "      <td>37941</td>\n",
              "      <td>8537</td>\n",
              "      <td>8756919</td>\n",
              "      <td>15</td>\n",
              "      <td>Twitter for iPhone</td>\n",
              "      <td>Original tweet</td>\n",
              "      <td>https://t.co/0g0KMIVXZ3</td>\n",
              "    </tr>\n",
              "    <tr>\n",
              "      <th>...</th>\n",
              "      <td>...</td>\n",
              "      <td>...</td>\n",
              "      <td>...</td>\n",
              "      <td>...</td>\n",
              "      <td>...</td>\n",
              "      <td>...</td>\n",
              "      <td>...</td>\n",
              "      <td>...</td>\n",
              "    </tr>\n",
              "    <tr>\n",
              "      <th>2325</th>\n",
              "      <td>666049248165822465</td>\n",
              "      <td>98</td>\n",
              "      <td>41</td>\n",
              "      <td>8757046</td>\n",
              "      <td>15</td>\n",
              "      <td>Twitter for iPhone</td>\n",
              "      <td>Original tweet</td>\n",
              "      <td>https://t.co/4B7cOc1EDq</td>\n",
              "    </tr>\n",
              "    <tr>\n",
              "      <th>2326</th>\n",
              "      <td>666044226329800704</td>\n",
              "      <td>274</td>\n",
              "      <td>133</td>\n",
              "      <td>8757048</td>\n",
              "      <td>15</td>\n",
              "      <td>Twitter for iPhone</td>\n",
              "      <td>Original tweet</td>\n",
              "      <td>https://t.co/DWnyCjf2mx</td>\n",
              "    </tr>\n",
              "    <tr>\n",
              "      <th>2327</th>\n",
              "      <td>666033412701032449</td>\n",
              "      <td>113</td>\n",
              "      <td>41</td>\n",
              "      <td>8757048</td>\n",
              "      <td>15</td>\n",
              "      <td>Twitter for iPhone</td>\n",
              "      <td>Original tweet</td>\n",
              "      <td>https://t.co/y671yMhoiR</td>\n",
              "    </tr>\n",
              "    <tr>\n",
              "      <th>2328</th>\n",
              "      <td>666029285002620928</td>\n",
              "      <td>121</td>\n",
              "      <td>42</td>\n",
              "      <td>8757048</td>\n",
              "      <td>15</td>\n",
              "      <td>Twitter for iPhone</td>\n",
              "      <td>Original tweet</td>\n",
              "      <td>https://t.co/r7mOb2m0UI</td>\n",
              "    </tr>\n",
              "    <tr>\n",
              "      <th>2329</th>\n",
              "      <td>666020888022790149</td>\n",
              "      <td>2426</td>\n",
              "      <td>464</td>\n",
              "      <td>8757048</td>\n",
              "      <td>15</td>\n",
              "      <td>Twitter for iPhone</td>\n",
              "      <td>Original tweet</td>\n",
              "      <td>https://t.co/BLDqew2Ijj</td>\n",
              "    </tr>\n",
              "  </tbody>\n",
              "</table>\n",
              "<p>2330 rows × 8 columns</p>\n",
              "</div>"
            ],
            "text/plain": [
              "                tweet_id  ...                      url\n",
              "0     892420643555336193  ...  https://t.co/MgUWQ76dJU\n",
              "1     892177421306343426  ...  https://t.co/aQFSeaCu9L\n",
              "2     891815181378084864  ...  https://t.co/r0YlrsGCgy\n",
              "3     891689557279858688  ...  https://t.co/tD36da7qLQ\n",
              "4     891327558926688256  ...  https://t.co/0g0KMIVXZ3\n",
              "...                  ...  ...                      ...\n",
              "2325  666049248165822465  ...  https://t.co/4B7cOc1EDq\n",
              "2326  666044226329800704  ...  https://t.co/DWnyCjf2mx\n",
              "2327  666033412701032449  ...  https://t.co/y671yMhoiR\n",
              "2328  666029285002620928  ...  https://t.co/r7mOb2m0UI\n",
              "2329  666020888022790149  ...  https://t.co/BLDqew2Ijj\n",
              "\n",
              "[2330 rows x 8 columns]"
            ]
          },
          "metadata": {
            "tags": []
          },
          "execution_count": 18
        }
      ]
    },
    {
      "cell_type": "markdown",
      "metadata": {
        "id": "zWCzytQPD5S4",
        "colab_type": "text"
      },
      "source": [
        "### Programmatic assessment "
      ]
    },
    {
      "cell_type": "code",
      "metadata": {
        "id": "sMv9onR0D5S6",
        "colab_type": "code",
        "colab": {
          "base_uri": "https://localhost:8080/",
          "height": 425
        },
        "outputId": "44d3ec76-3e68-4540-cde5-8ca0d30cc4ce"
      },
      "source": [
        "arch.info()"
      ],
      "execution_count": 19,
      "outputs": [
        {
          "output_type": "stream",
          "text": [
            "<class 'pandas.core.frame.DataFrame'>\n",
            "RangeIndex: 2356 entries, 0 to 2355\n",
            "Data columns (total 17 columns):\n",
            " #   Column                      Non-Null Count  Dtype  \n",
            "---  ------                      --------------  -----  \n",
            " 0   tweet_id                    2356 non-null   int64  \n",
            " 1   in_reply_to_status_id       78 non-null     float64\n",
            " 2   in_reply_to_user_id         78 non-null     float64\n",
            " 3   timestamp                   2356 non-null   object \n",
            " 4   source                      2356 non-null   object \n",
            " 5   text                        2356 non-null   object \n",
            " 6   retweeted_status_id         181 non-null    float64\n",
            " 7   retweeted_status_user_id    181 non-null    float64\n",
            " 8   retweeted_status_timestamp  181 non-null    object \n",
            " 9   expanded_urls               2297 non-null   object \n",
            " 10  rating_numerator            2356 non-null   int64  \n",
            " 11  rating_denominator          2356 non-null   int64  \n",
            " 12  name                        2356 non-null   object \n",
            " 13  doggo                       2356 non-null   object \n",
            " 14  floofer                     2356 non-null   object \n",
            " 15  pupper                      2356 non-null   object \n",
            " 16  puppo                       2356 non-null   object \n",
            "dtypes: float64(4), int64(3), object(10)\n",
            "memory usage: 313.0+ KB\n"
          ],
          "name": "stdout"
        }
      ]
    },
    {
      "cell_type": "code",
      "metadata": {
        "id": "-Q1gkKlID5TD",
        "colab_type": "code",
        "colab": {
          "base_uri": "https://localhost:8080/",
          "height": 34
        },
        "outputId": "9b80297b-beed-4cd8-a620-706495d0d860"
      },
      "source": [
        "sum(arch['tweet_id'].duplicated())"
      ],
      "execution_count": 20,
      "outputs": [
        {
          "output_type": "execute_result",
          "data": {
            "text/plain": [
              "0"
            ]
          },
          "metadata": {
            "tags": []
          },
          "execution_count": 20
        }
      ]
    },
    {
      "cell_type": "code",
      "metadata": {
        "id": "ZliDbjRpD5TJ",
        "colab_type": "code",
        "colab": {
          "base_uri": "https://localhost:8080/",
          "height": 714
        },
        "outputId": "6bcab068-ccd6-4f66-f2aa-c80374aec68e"
      },
      "source": [
        "arch.rating_numerator.value_counts()"
      ],
      "execution_count": 21,
      "outputs": [
        {
          "output_type": "execute_result",
          "data": {
            "text/plain": [
              "12      558\n",
              "11      464\n",
              "10      461\n",
              "13      351\n",
              "9       158\n",
              "8       102\n",
              "7        55\n",
              "14       54\n",
              "5        37\n",
              "6        32\n",
              "3        19\n",
              "4        17\n",
              "1         9\n",
              "2         9\n",
              "420       2\n",
              "0         2\n",
              "15        2\n",
              "75        2\n",
              "80        1\n",
              "20        1\n",
              "24        1\n",
              "26        1\n",
              "44        1\n",
              "50        1\n",
              "60        1\n",
              "165       1\n",
              "84        1\n",
              "88        1\n",
              "144       1\n",
              "182       1\n",
              "143       1\n",
              "666       1\n",
              "960       1\n",
              "1776      1\n",
              "17        1\n",
              "27        1\n",
              "45        1\n",
              "99        1\n",
              "121       1\n",
              "204       1\n",
              "Name: rating_numerator, dtype: int64"
            ]
          },
          "metadata": {
            "tags": []
          },
          "execution_count": 21
        }
      ]
    },
    {
      "cell_type": "code",
      "metadata": {
        "id": "cMchYyGgD5TQ",
        "colab_type": "code",
        "colab": {
          "base_uri": "https://localhost:8080/",
          "height": 170
        },
        "outputId": "f925ea56-4c4e-48d5-bf13-28194e1a0a4c"
      },
      "source": [
        "print(arch.loc[arch.rating_numerator == 204, 'text']) \n",
        "print(arch.loc[arch.rating_numerator == 143, 'text']) \n",
        "print(arch.loc[arch.rating_numerator == 666, 'text']) \n",
        "print(arch.loc[arch.rating_numerator == 1176, 'text'])\n",
        "print(arch.loc[arch.rating_numerator == 144, 'text'])"
      ],
      "execution_count": 22,
      "outputs": [
        {
          "output_type": "stream",
          "text": [
            "1120    Say hello to this unbelievably well behaved sq...\n",
            "Name: text, dtype: object\n",
            "1634    Two sneaky puppers were not initially seen, mo...\n",
            "Name: text, dtype: object\n",
            "189    @s8n You tried very hard to portray this good ...\n",
            "Name: text, dtype: object\n",
            "Series([], Name: text, dtype: object)\n",
            "1779    IT'S PUPPERGEDDON. Total of 144/120 ...I think...\n",
            "Name: text, dtype: object\n"
          ],
          "name": "stdout"
        }
      ]
    },
    {
      "cell_type": "code",
      "metadata": {
        "id": "qphFgKB_D5TX",
        "colab_type": "code",
        "colab": {
          "base_uri": "https://localhost:8080/",
          "height": 122
        },
        "outputId": "f8af2f9d-29ca-48fe-d6a6-d333f4dbbec4"
      },
      "source": [
        "#print whole text in order to verify numerators and denominators\n",
        "print(arch['text'][1120]) #17 dogs\n",
        "print(arch['text'][1634]) #13 dogs\n",
        "print(arch['text'][313]) #just a tweet to explain actual ratings, this will be ignored when cleaning data\n",
        "print(arch['text'][189]) #no picture, this will be ignored when cleaning data\n",
        "print(arch['text'][1779]) #12 dogs"
      ],
      "execution_count": 23,
      "outputs": [
        {
          "output_type": "stream",
          "text": [
            "Say hello to this unbelievably well behaved squad of doggos. 204/170 would try to pet all at once https://t.co/yGQI3He3xv\n",
            "Two sneaky puppers were not initially seen, moving the rating to 143/130. Please forgive us. Thank you https://t.co/kRK51Y5ac3\n",
            "@jonnysun @Lin_Manuel ok jomny I know you're excited but 960/00 isn't a valid rating, 13/10 is tho\n",
            "@s8n You tried very hard to portray this good boy as not so good, but you have ultimately failed. His goodness shines through. 666/10\n",
            "IT'S PUPPERGEDDON. Total of 144/120 ...I think https://t.co/ZanVtAtvIq\n"
          ],
          "name": "stdout"
        }
      ]
    },
    {
      "cell_type": "code",
      "metadata": {
        "id": "w_QULleXD5Te",
        "colab_type": "code",
        "colab": {
          "base_uri": "https://localhost:8080/",
          "height": 340
        },
        "outputId": "0d02b9c3-e064-46ca-cdf2-d5695920b7de"
      },
      "source": [
        "arch.rating_denominator.value_counts()"
      ],
      "execution_count": 24,
      "outputs": [
        {
          "output_type": "execute_result",
          "data": {
            "text/plain": [
              "10     2333\n",
              "11        3\n",
              "50        3\n",
              "80        2\n",
              "20        2\n",
              "2         1\n",
              "16        1\n",
              "40        1\n",
              "70        1\n",
              "15        1\n",
              "90        1\n",
              "110       1\n",
              "120       1\n",
              "130       1\n",
              "150       1\n",
              "170       1\n",
              "7         1\n",
              "0         1\n",
              "Name: rating_denominator, dtype: int64"
            ]
          },
          "metadata": {
            "tags": []
          },
          "execution_count": 24
        }
      ]
    },
    {
      "cell_type": "code",
      "metadata": {
        "id": "E3ObDoJXD5Tl",
        "colab_type": "code",
        "colab": {
          "base_uri": "https://localhost:8080/",
          "height": 221
        },
        "outputId": "a73de43c-710e-4793-a5ab-d3dcd4d02619"
      },
      "source": [
        "print(arch.loc[arch.rating_denominator == 11, 'text']) \n",
        "print(arch.loc[arch.rating_denominator == 2, 'text']) \n",
        "print(arch.loc[arch.rating_denominator == 16, 'text']) \n",
        "print(arch.loc[arch.rating_denominator == 15, 'text'])\n",
        "print(arch.loc[arch.rating_denominator == 7, 'text'])"
      ],
      "execution_count": 25,
      "outputs": [
        {
          "output_type": "stream",
          "text": [
            "784     RT @dog_rates: After so many requests, this is...\n",
            "1068    After so many requests, this is Bretagne. She ...\n",
            "1662    This is Darrel. He just robbed a 7/11 and is i...\n",
            "Name: text, dtype: object\n",
            "2335    This is an Albanian 3 1/2 legged  Episcopalian...\n",
            "Name: text, dtype: object\n",
            "1663    I'm aware that I could've said 20/16, but here...\n",
            "Name: text, dtype: object\n",
            "342    @docmisterio account started on 11/15/15\n",
            "Name: text, dtype: object\n",
            "516    Meet Sam. She smiles 24/7 &amp; secretly aspir...\n",
            "Name: text, dtype: object\n"
          ],
          "name": "stdout"
        }
      ]
    },
    {
      "cell_type": "code",
      "metadata": {
        "id": "aTvvuYEmD5Ts",
        "colab_type": "code",
        "colab": {
          "base_uri": "https://localhost:8080/",
          "height": 190
        },
        "outputId": "b99e5dff-0be4-4f1d-94e1-d7223293e624"
      },
      "source": [
        "print(arch['text'][784]) #retweet - it will be deleted when delete all retweets\n",
        "print(arch['text'][1068]) #actual rating 14/10 need to change manually\n",
        "print(arch['text'][1662]) #actual rating 10/10 need to change manually\n",
        "print(arch['text'][2335]) #actual rating 9/10 need to change manually\n",
        "print(arch['text'][1663]) # tweet to explain rating\n",
        "print(arch['text'][342]) #no rating - delete\n",
        "print(arch['text'][516]) #no rating - delete"
      ],
      "execution_count": 26,
      "outputs": [
        {
          "output_type": "stream",
          "text": [
            "RT @dog_rates: After so many requests, this is Bretagne. She was the last surviving 9/11 search dog, and our second ever 14/10. RIP https:/…\n",
            "After so many requests, this is Bretagne. She was the last surviving 9/11 search dog, and our second ever 14/10. RIP https://t.co/XAVDNDaVgQ\n",
            "This is Darrel. He just robbed a 7/11 and is in a high speed police chase. Was just spotted by the helicopter 10/10 https://t.co/7EsP8LmSp5\n",
            "This is an Albanian 3 1/2 legged  Episcopalian. Loves well-polished hardwood flooring. Penis on the collar. 9/10 https://t.co/d9NcXFKwLv\n",
            "I'm aware that I could've said 20/16, but here at WeRateDogs we are very professional. An inconsistent rating scale is simply irresponsible\n",
            "@docmisterio account started on 11/15/15\n",
            "Meet Sam. She smiles 24/7 &amp; secretly aspires to be a reindeer. \n",
            "Keep Sam smiling by clicking and sharing this link:\n",
            "https://t.co/98tB8y7y7t https://t.co/LouL5vdvxx\n"
          ],
          "name": "stdout"
        }
      ]
    },
    {
      "cell_type": "code",
      "metadata": {
        "id": "mMXuvugVD5Ty",
        "colab_type": "code",
        "colab": {
          "base_uri": "https://localhost:8080/",
          "height": 69
        },
        "outputId": "b507a5f8-1bfe-4002-9a12-52b88561ade6"
      },
      "source": [
        "arch[arch['tweet_id'] == 681340665377193000]"
      ],
      "execution_count": 27,
      "outputs": [
        {
          "output_type": "execute_result",
          "data": {
            "text/html": [
              "<div>\n",
              "<style scoped>\n",
              "    .dataframe tbody tr th:only-of-type {\n",
              "        vertical-align: middle;\n",
              "    }\n",
              "\n",
              "    .dataframe tbody tr th {\n",
              "        vertical-align: top;\n",
              "    }\n",
              "\n",
              "    .dataframe thead th {\n",
              "        text-align: right;\n",
              "    }\n",
              "</style>\n",
              "<table border=\"1\" class=\"dataframe\">\n",
              "  <thead>\n",
              "    <tr style=\"text-align: right;\">\n",
              "      <th></th>\n",
              "      <th>tweet_id</th>\n",
              "      <th>in_reply_to_status_id</th>\n",
              "      <th>in_reply_to_user_id</th>\n",
              "      <th>timestamp</th>\n",
              "      <th>source</th>\n",
              "      <th>text</th>\n",
              "      <th>retweeted_status_id</th>\n",
              "      <th>retweeted_status_user_id</th>\n",
              "      <th>retweeted_status_timestamp</th>\n",
              "      <th>expanded_urls</th>\n",
              "      <th>rating_numerator</th>\n",
              "      <th>rating_denominator</th>\n",
              "      <th>name</th>\n",
              "      <th>doggo</th>\n",
              "      <th>floofer</th>\n",
              "      <th>pupper</th>\n",
              "      <th>puppo</th>\n",
              "    </tr>\n",
              "  </thead>\n",
              "  <tbody>\n",
              "  </tbody>\n",
              "</table>\n",
              "</div>"
            ],
            "text/plain": [
              "Empty DataFrame\n",
              "Columns: [tweet_id, in_reply_to_status_id, in_reply_to_user_id, timestamp, source, text, retweeted_status_id, retweeted_status_user_id, retweeted_status_timestamp, expanded_urls, rating_numerator, rating_denominator, name, doggo, floofer, pupper, puppo]\n",
              "Index: []"
            ]
          },
          "metadata": {
            "tags": []
          },
          "execution_count": 27
        }
      ]
    },
    {
      "cell_type": "code",
      "metadata": {
        "id": "hkYZmvlyD5T9",
        "colab_type": "code",
        "colab": {
          "base_uri": "https://localhost:8080/",
          "height": 425
        },
        "outputId": "0090a518-cc6e-4e23-cb6e-d0ead09987cd"
      },
      "source": [
        "# Reviewer point brought something to my attention that it was not picked up during the first assessment\n",
        "\n",
        "with pd.option_context('max_colwidth', 200):\n",
        "    display(arch[arch['text'].str.contains(r\"(\\d+\\.\\d*\\/\\d+)\")]\n",
        "            [['tweet_id', 'text', 'rating_numerator', 'rating_denominator']])"
      ],
      "execution_count": 28,
      "outputs": [
        {
          "output_type": "stream",
          "text": [
            "/usr/local/lib/python3.6/dist-packages/pandas/core/strings.py:1954: UserWarning: This pattern has match groups. To actually get the groups, use str.extract.\n",
            "  return func(self, *args, **kwargs)\n"
          ],
          "name": "stderr"
        },
        {
          "output_type": "display_data",
          "data": {
            "text/html": [
              "<div>\n",
              "<style scoped>\n",
              "    .dataframe tbody tr th:only-of-type {\n",
              "        vertical-align: middle;\n",
              "    }\n",
              "\n",
              "    .dataframe tbody tr th {\n",
              "        vertical-align: top;\n",
              "    }\n",
              "\n",
              "    .dataframe thead th {\n",
              "        text-align: right;\n",
              "    }\n",
              "</style>\n",
              "<table border=\"1\" class=\"dataframe\">\n",
              "  <thead>\n",
              "    <tr style=\"text-align: right;\">\n",
              "      <th></th>\n",
              "      <th>tweet_id</th>\n",
              "      <th>text</th>\n",
              "      <th>rating_numerator</th>\n",
              "      <th>rating_denominator</th>\n",
              "    </tr>\n",
              "  </thead>\n",
              "  <tbody>\n",
              "    <tr>\n",
              "      <th>45</th>\n",
              "      <td>883482846933004288</td>\n",
              "      <td>This is Bella. She hopes her smile made you smile. If not, she is also offering you her favorite monkey. 13.5/10 https://t.co/qjrljjt948</td>\n",
              "      <td>5</td>\n",
              "      <td>10</td>\n",
              "    </tr>\n",
              "    <tr>\n",
              "      <th>340</th>\n",
              "      <td>832215909146226688</td>\n",
              "      <td>RT @dog_rates: This is Logan, the Chow who lived. He solemnly swears he's up to lots of good. H*ckin magical af 9.75/10 https://t.co/yBO5wu…</td>\n",
              "      <td>75</td>\n",
              "      <td>10</td>\n",
              "    </tr>\n",
              "    <tr>\n",
              "      <th>695</th>\n",
              "      <td>786709082849828864</td>\n",
              "      <td>This is Logan, the Chow who lived. He solemnly swears he's up to lots of good. H*ckin magical af 9.75/10 https://t.co/yBO5wuqaPS</td>\n",
              "      <td>75</td>\n",
              "      <td>10</td>\n",
              "    </tr>\n",
              "    <tr>\n",
              "      <th>763</th>\n",
              "      <td>778027034220126208</td>\n",
              "      <td>This is Sophie. She's a Jubilant Bush Pupper. Super h*ckin rare. Appears at random just to smile at the locals. 11.27/10 would smile back https://t.co/QFaUiIHxHq</td>\n",
              "      <td>27</td>\n",
              "      <td>10</td>\n",
              "    </tr>\n",
              "    <tr>\n",
              "      <th>1689</th>\n",
              "      <td>681340665377193984</td>\n",
              "      <td>I've been told there's a slight possibility he's checking his mirror. We'll bump to 9.5/10. Still a menace</td>\n",
              "      <td>5</td>\n",
              "      <td>10</td>\n",
              "    </tr>\n",
              "    <tr>\n",
              "      <th>1712</th>\n",
              "      <td>680494726643068929</td>\n",
              "      <td>Here we have uncovered an entire battalion of holiday puppers. Average of 11.26/10 https://t.co/eNm2S6p9BD</td>\n",
              "      <td>26</td>\n",
              "      <td>10</td>\n",
              "    </tr>\n",
              "  </tbody>\n",
              "</table>\n",
              "</div>"
            ],
            "text/plain": [
              "                tweet_id  ... rating_denominator\n",
              "45    883482846933004288  ...                 10\n",
              "340   832215909146226688  ...                 10\n",
              "695   786709082849828864  ...                 10\n",
              "763   778027034220126208  ...                 10\n",
              "1689  681340665377193984  ...                 10\n",
              "1712  680494726643068929  ...                 10\n",
              "\n",
              "[6 rows x 4 columns]"
            ]
          },
          "metadata": {
            "tags": []
          }
        }
      ]
    },
    {
      "cell_type": "code",
      "metadata": {
        "id": "EcKHvHdXD5UD",
        "colab_type": "code",
        "colab": {
          "base_uri": "https://localhost:8080/",
          "height": 379
        },
        "outputId": "b63d5603-3642-42b4-d10f-5bf500e5ddb5"
      },
      "source": [
        "image_prediction.sample(10)"
      ],
      "execution_count": 29,
      "outputs": [
        {
          "output_type": "execute_result",
          "data": {
            "text/html": [
              "<div>\n",
              "<style scoped>\n",
              "    .dataframe tbody tr th:only-of-type {\n",
              "        vertical-align: middle;\n",
              "    }\n",
              "\n",
              "    .dataframe tbody tr th {\n",
              "        vertical-align: top;\n",
              "    }\n",
              "\n",
              "    .dataframe thead th {\n",
              "        text-align: right;\n",
              "    }\n",
              "</style>\n",
              "<table border=\"1\" class=\"dataframe\">\n",
              "  <thead>\n",
              "    <tr style=\"text-align: right;\">\n",
              "      <th></th>\n",
              "      <th>tweet_id</th>\n",
              "      <th>jpg_url</th>\n",
              "      <th>img_num</th>\n",
              "      <th>p1</th>\n",
              "      <th>p1_conf</th>\n",
              "      <th>p1_dog</th>\n",
              "      <th>p2</th>\n",
              "      <th>p2_conf</th>\n",
              "      <th>p2_dog</th>\n",
              "      <th>p3</th>\n",
              "      <th>p3_conf</th>\n",
              "      <th>p3_dog</th>\n",
              "    </tr>\n",
              "  </thead>\n",
              "  <tbody>\n",
              "    <tr>\n",
              "      <th>1950</th>\n",
              "      <td>863079547188785154</td>\n",
              "      <td>https://pbs.twimg.com/media/C_pGRInUwAAmTY_.jpg</td>\n",
              "      <td>1</td>\n",
              "      <td>Lakeland_terrier</td>\n",
              "      <td>0.275242</td>\n",
              "      <td>True</td>\n",
              "      <td>Airedale</td>\n",
              "      <td>0.190569</td>\n",
              "      <td>True</td>\n",
              "      <td>teddy</td>\n",
              "      <td>0.102595</td>\n",
              "      <td>False</td>\n",
              "    </tr>\n",
              "    <tr>\n",
              "      <th>479</th>\n",
              "      <td>675349384339542016</td>\n",
              "      <td>https://pbs.twimg.com/media/CV9SrABU4AQI46z.jpg</td>\n",
              "      <td>3</td>\n",
              "      <td>borzoi</td>\n",
              "      <td>0.866367</td>\n",
              "      <td>True</td>\n",
              "      <td>Saluki</td>\n",
              "      <td>0.122079</td>\n",
              "      <td>True</td>\n",
              "      <td>Irish_wolfhound</td>\n",
              "      <td>0.004020</td>\n",
              "      <td>True</td>\n",
              "    </tr>\n",
              "    <tr>\n",
              "      <th>571</th>\n",
              "      <td>678399652199309312</td>\n",
              "      <td>https://pbs.twimg.com/ext_tw_video_thumb/67839...</td>\n",
              "      <td>1</td>\n",
              "      <td>swing</td>\n",
              "      <td>0.929196</td>\n",
              "      <td>False</td>\n",
              "      <td>Bedlington_terrier</td>\n",
              "      <td>0.015047</td>\n",
              "      <td>True</td>\n",
              "      <td>Great_Pyrenees</td>\n",
              "      <td>0.014039</td>\n",
              "      <td>True</td>\n",
              "    </tr>\n",
              "    <tr>\n",
              "      <th>684</th>\n",
              "      <td>683852578183077888</td>\n",
              "      <td>https://pbs.twimg.com/media/CX2ISqSWYAAEtCF.jpg</td>\n",
              "      <td>1</td>\n",
              "      <td>toy_poodle</td>\n",
              "      <td>0.551352</td>\n",
              "      <td>True</td>\n",
              "      <td>teddy</td>\n",
              "      <td>0.180678</td>\n",
              "      <td>False</td>\n",
              "      <td>miniature_poodle</td>\n",
              "      <td>0.164095</td>\n",
              "      <td>True</td>\n",
              "    </tr>\n",
              "    <tr>\n",
              "      <th>1111</th>\n",
              "      <td>724046343203856385</td>\n",
              "      <td>https://pbs.twimg.com/media/CgxUTS_XEAAC0pv.jpg</td>\n",
              "      <td>1</td>\n",
              "      <td>boxer</td>\n",
              "      <td>0.826272</td>\n",
              "      <td>True</td>\n",
              "      <td>bull_mastiff</td>\n",
              "      <td>0.158595</td>\n",
              "      <td>True</td>\n",
              "      <td>Great_Dane</td>\n",
              "      <td>0.011859</td>\n",
              "      <td>True</td>\n",
              "    </tr>\n",
              "    <tr>\n",
              "      <th>1852</th>\n",
              "      <td>840632337062862849</td>\n",
              "      <td>https://pbs.twimg.com/media/C6qGphPV4AEKrdc.jpg</td>\n",
              "      <td>1</td>\n",
              "      <td>golden_retriever</td>\n",
              "      <td>0.711148</td>\n",
              "      <td>True</td>\n",
              "      <td>cocker_spaniel</td>\n",
              "      <td>0.157929</td>\n",
              "      <td>True</td>\n",
              "      <td>Labrador_retriever</td>\n",
              "      <td>0.059582</td>\n",
              "      <td>True</td>\n",
              "    </tr>\n",
              "    <tr>\n",
              "      <th>1892</th>\n",
              "      <td>849336543269576704</td>\n",
              "      <td>https://pbs.twimg.com/media/C8lzFC4XcAAQxB4.jpg</td>\n",
              "      <td>1</td>\n",
              "      <td>patio</td>\n",
              "      <td>0.521788</td>\n",
              "      <td>False</td>\n",
              "      <td>prison</td>\n",
              "      <td>0.149544</td>\n",
              "      <td>False</td>\n",
              "      <td>restaurant</td>\n",
              "      <td>0.027153</td>\n",
              "      <td>False</td>\n",
              "    </tr>\n",
              "    <tr>\n",
              "      <th>1641</th>\n",
              "      <td>807106840509214720</td>\n",
              "      <td>https://pbs.twimg.com/ext_tw_video_thumb/80710...</td>\n",
              "      <td>1</td>\n",
              "      <td>Chihuahua</td>\n",
              "      <td>0.505370</td>\n",
              "      <td>True</td>\n",
              "      <td>Pomeranian</td>\n",
              "      <td>0.120358</td>\n",
              "      <td>True</td>\n",
              "      <td>toy_terrier</td>\n",
              "      <td>0.077008</td>\n",
              "      <td>True</td>\n",
              "    </tr>\n",
              "    <tr>\n",
              "      <th>418</th>\n",
              "      <td>674036086168010753</td>\n",
              "      <td>https://pbs.twimg.com/media/CVqoPslWEAEk7EC.jpg</td>\n",
              "      <td>1</td>\n",
              "      <td>toy_poodle</td>\n",
              "      <td>0.685617</td>\n",
              "      <td>True</td>\n",
              "      <td>miniature_poodle</td>\n",
              "      <td>0.151936</td>\n",
              "      <td>True</td>\n",
              "      <td>Maltese_dog</td>\n",
              "      <td>0.045531</td>\n",
              "      <td>True</td>\n",
              "    </tr>\n",
              "    <tr>\n",
              "      <th>260</th>\n",
              "      <td>670783437142401025</td>\n",
              "      <td>https://pbs.twimg.com/media/CU8Z-OxXAAA-sd2.jpg</td>\n",
              "      <td>1</td>\n",
              "      <td>lacewing</td>\n",
              "      <td>0.381955</td>\n",
              "      <td>False</td>\n",
              "      <td>sulphur_butterfly</td>\n",
              "      <td>0.106810</td>\n",
              "      <td>False</td>\n",
              "      <td>leafhopper</td>\n",
              "      <td>0.068347</td>\n",
              "      <td>False</td>\n",
              "    </tr>\n",
              "  </tbody>\n",
              "</table>\n",
              "</div>"
            ],
            "text/plain": [
              "                tweet_id  ... p3_dog\n",
              "1950  863079547188785154  ...  False\n",
              "479   675349384339542016  ...   True\n",
              "571   678399652199309312  ...   True\n",
              "684   683852578183077888  ...   True\n",
              "1111  724046343203856385  ...   True\n",
              "1852  840632337062862849  ...   True\n",
              "1892  849336543269576704  ...  False\n",
              "1641  807106840509214720  ...   True\n",
              "418   674036086168010753  ...   True\n",
              "260   670783437142401025  ...  False\n",
              "\n",
              "[10 rows x 12 columns]"
            ]
          },
          "metadata": {
            "tags": []
          },
          "execution_count": 29
        }
      ]
    },
    {
      "cell_type": "code",
      "metadata": {
        "id": "O1D17COhD5UK",
        "colab_type": "code",
        "colab": {
          "base_uri": "https://localhost:8080/",
          "height": 340
        },
        "outputId": "3da297e4-861e-4a79-cb96-6c1958c7918a"
      },
      "source": [
        "image_prediction.info()"
      ],
      "execution_count": 30,
      "outputs": [
        {
          "output_type": "stream",
          "text": [
            "<class 'pandas.core.frame.DataFrame'>\n",
            "RangeIndex: 2075 entries, 0 to 2074\n",
            "Data columns (total 12 columns):\n",
            " #   Column    Non-Null Count  Dtype  \n",
            "---  ------    --------------  -----  \n",
            " 0   tweet_id  2075 non-null   int64  \n",
            " 1   jpg_url   2075 non-null   object \n",
            " 2   img_num   2075 non-null   int64  \n",
            " 3   p1        2075 non-null   object \n",
            " 4   p1_conf   2075 non-null   float64\n",
            " 5   p1_dog    2075 non-null   bool   \n",
            " 6   p2        2075 non-null   object \n",
            " 7   p2_conf   2075 non-null   float64\n",
            " 8   p2_dog    2075 non-null   bool   \n",
            " 9   p3        2075 non-null   object \n",
            " 10  p3_conf   2075 non-null   float64\n",
            " 11  p3_dog    2075 non-null   bool   \n",
            "dtypes: bool(3), float64(3), int64(2), object(4)\n",
            "memory usage: 152.1+ KB\n"
          ],
          "name": "stdout"
        }
      ]
    },
    {
      "cell_type": "code",
      "metadata": {
        "id": "Dad99emYD5UQ",
        "colab_type": "code",
        "colab": {
          "base_uri": "https://localhost:8080/",
          "height": 34
        },
        "outputId": "292b6926-ea18-4094-8e85-84a8d0953c69"
      },
      "source": [
        "sum(image_prediction.jpg_url.duplicated())"
      ],
      "execution_count": 31,
      "outputs": [
        {
          "output_type": "execute_result",
          "data": {
            "text/plain": [
              "66"
            ]
          },
          "metadata": {
            "tags": []
          },
          "execution_count": 31
        }
      ]
    },
    {
      "cell_type": "code",
      "metadata": {
        "id": "BIDl_UOvD5UY",
        "colab_type": "code",
        "colab": {
          "base_uri": "https://localhost:8080/",
          "height": 439
        },
        "outputId": "657fc1ed-9dce-4855-aa9b-210ac6160136"
      },
      "source": [
        "pd.concat(g for _, g in image_prediction.groupby(\"jpg_url\") if len(g) > 1)"
      ],
      "execution_count": 32,
      "outputs": [
        {
          "output_type": "execute_result",
          "data": {
            "text/html": [
              "<div>\n",
              "<style scoped>\n",
              "    .dataframe tbody tr th:only-of-type {\n",
              "        vertical-align: middle;\n",
              "    }\n",
              "\n",
              "    .dataframe tbody tr th {\n",
              "        vertical-align: top;\n",
              "    }\n",
              "\n",
              "    .dataframe thead th {\n",
              "        text-align: right;\n",
              "    }\n",
              "</style>\n",
              "<table border=\"1\" class=\"dataframe\">\n",
              "  <thead>\n",
              "    <tr style=\"text-align: right;\">\n",
              "      <th></th>\n",
              "      <th>tweet_id</th>\n",
              "      <th>jpg_url</th>\n",
              "      <th>img_num</th>\n",
              "      <th>p1</th>\n",
              "      <th>p1_conf</th>\n",
              "      <th>p1_dog</th>\n",
              "      <th>p2</th>\n",
              "      <th>p2_conf</th>\n",
              "      <th>p2_dog</th>\n",
              "      <th>p3</th>\n",
              "      <th>p3_conf</th>\n",
              "      <th>p3_dog</th>\n",
              "    </tr>\n",
              "  </thead>\n",
              "  <tbody>\n",
              "    <tr>\n",
              "      <th>480</th>\n",
              "      <td>675354435921575936</td>\n",
              "      <td>https://pbs.twimg.com/ext_tw_video_thumb/67535...</td>\n",
              "      <td>1</td>\n",
              "      <td>upright</td>\n",
              "      <td>0.303415</td>\n",
              "      <td>False</td>\n",
              "      <td>golden_retriever</td>\n",
              "      <td>0.181351</td>\n",
              "      <td>True</td>\n",
              "      <td>Brittany_spaniel</td>\n",
              "      <td>0.162084</td>\n",
              "      <td>True</td>\n",
              "    </tr>\n",
              "    <tr>\n",
              "      <th>1297</th>\n",
              "      <td>752309394570878976</td>\n",
              "      <td>https://pbs.twimg.com/ext_tw_video_thumb/67535...</td>\n",
              "      <td>1</td>\n",
              "      <td>upright</td>\n",
              "      <td>0.303415</td>\n",
              "      <td>False</td>\n",
              "      <td>golden_retriever</td>\n",
              "      <td>0.181351</td>\n",
              "      <td>True</td>\n",
              "      <td>Brittany_spaniel</td>\n",
              "      <td>0.162084</td>\n",
              "      <td>True</td>\n",
              "    </tr>\n",
              "    <tr>\n",
              "      <th>1641</th>\n",
              "      <td>807106840509214720</td>\n",
              "      <td>https://pbs.twimg.com/ext_tw_video_thumb/80710...</td>\n",
              "      <td>1</td>\n",
              "      <td>Chihuahua</td>\n",
              "      <td>0.505370</td>\n",
              "      <td>True</td>\n",
              "      <td>Pomeranian</td>\n",
              "      <td>0.120358</td>\n",
              "      <td>True</td>\n",
              "      <td>toy_terrier</td>\n",
              "      <td>0.077008</td>\n",
              "      <td>True</td>\n",
              "    </tr>\n",
              "    <tr>\n",
              "      <th>1864</th>\n",
              "      <td>842892208864923648</td>\n",
              "      <td>https://pbs.twimg.com/ext_tw_video_thumb/80710...</td>\n",
              "      <td>1</td>\n",
              "      <td>Chihuahua</td>\n",
              "      <td>0.505370</td>\n",
              "      <td>True</td>\n",
              "      <td>Pomeranian</td>\n",
              "      <td>0.120358</td>\n",
              "      <td>True</td>\n",
              "      <td>toy_terrier</td>\n",
              "      <td>0.077008</td>\n",
              "      <td>True</td>\n",
              "    </tr>\n",
              "    <tr>\n",
              "      <th>1691</th>\n",
              "      <td>815966073409433600</td>\n",
              "      <td>https://pbs.twimg.com/ext_tw_video_thumb/81596...</td>\n",
              "      <td>1</td>\n",
              "      <td>Tibetan_mastiff</td>\n",
              "      <td>0.506312</td>\n",
              "      <td>True</td>\n",
              "      <td>Tibetan_terrier</td>\n",
              "      <td>0.295690</td>\n",
              "      <td>True</td>\n",
              "      <td>otterhound</td>\n",
              "      <td>0.036251</td>\n",
              "      <td>True</td>\n",
              "    </tr>\n",
              "    <tr>\n",
              "      <th>...</th>\n",
              "      <td>...</td>\n",
              "      <td>...</td>\n",
              "      <td>...</td>\n",
              "      <td>...</td>\n",
              "      <td>...</td>\n",
              "      <td>...</td>\n",
              "      <td>...</td>\n",
              "      <td>...</td>\n",
              "      <td>...</td>\n",
              "      <td>...</td>\n",
              "      <td>...</td>\n",
              "      <td>...</td>\n",
              "    </tr>\n",
              "    <tr>\n",
              "      <th>1992</th>\n",
              "      <td>873697596434513921</td>\n",
              "      <td>https://pbs.twimg.com/media/DA7iHL5U0AA1OQo.jpg</td>\n",
              "      <td>1</td>\n",
              "      <td>laptop</td>\n",
              "      <td>0.153718</td>\n",
              "      <td>False</td>\n",
              "      <td>French_bulldog</td>\n",
              "      <td>0.099984</td>\n",
              "      <td>True</td>\n",
              "      <td>printer</td>\n",
              "      <td>0.077130</td>\n",
              "      <td>False</td>\n",
              "    </tr>\n",
              "    <tr>\n",
              "      <th>2051</th>\n",
              "      <td>887473957103951883</td>\n",
              "      <td>https://pbs.twimg.com/media/DFDw2tyUQAAAFke.jpg</td>\n",
              "      <td>2</td>\n",
              "      <td>Pembroke</td>\n",
              "      <td>0.809197</td>\n",
              "      <td>True</td>\n",
              "      <td>Rhodesian_ridgeback</td>\n",
              "      <td>0.054950</td>\n",
              "      <td>True</td>\n",
              "      <td>beagle</td>\n",
              "      <td>0.038915</td>\n",
              "      <td>True</td>\n",
              "    </tr>\n",
              "    <tr>\n",
              "      <th>2055</th>\n",
              "      <td>888202515573088257</td>\n",
              "      <td>https://pbs.twimg.com/media/DFDw2tyUQAAAFke.jpg</td>\n",
              "      <td>2</td>\n",
              "      <td>Pembroke</td>\n",
              "      <td>0.809197</td>\n",
              "      <td>True</td>\n",
              "      <td>Rhodesian_ridgeback</td>\n",
              "      <td>0.054950</td>\n",
              "      <td>True</td>\n",
              "      <td>beagle</td>\n",
              "      <td>0.038915</td>\n",
              "      <td>True</td>\n",
              "    </tr>\n",
              "    <tr>\n",
              "      <th>1033</th>\n",
              "      <td>711694788429553666</td>\n",
              "      <td>https://pbs.twimg.com/tweet_video_thumb/CeBym7...</td>\n",
              "      <td>1</td>\n",
              "      <td>brown_bear</td>\n",
              "      <td>0.713293</td>\n",
              "      <td>False</td>\n",
              "      <td>Indian_elephant</td>\n",
              "      <td>0.172844</td>\n",
              "      <td>False</td>\n",
              "      <td>water_buffalo</td>\n",
              "      <td>0.038902</td>\n",
              "      <td>False</td>\n",
              "    </tr>\n",
              "    <tr>\n",
              "      <th>1364</th>\n",
              "      <td>761371037149827077</td>\n",
              "      <td>https://pbs.twimg.com/tweet_video_thumb/CeBym7...</td>\n",
              "      <td>1</td>\n",
              "      <td>brown_bear</td>\n",
              "      <td>0.713293</td>\n",
              "      <td>False</td>\n",
              "      <td>Indian_elephant</td>\n",
              "      <td>0.172844</td>\n",
              "      <td>False</td>\n",
              "      <td>water_buffalo</td>\n",
              "      <td>0.038902</td>\n",
              "      <td>False</td>\n",
              "    </tr>\n",
              "  </tbody>\n",
              "</table>\n",
              "<p>132 rows × 12 columns</p>\n",
              "</div>"
            ],
            "text/plain": [
              "                tweet_id  ... p3_dog\n",
              "480   675354435921575936  ...   True\n",
              "1297  752309394570878976  ...   True\n",
              "1641  807106840509214720  ...   True\n",
              "1864  842892208864923648  ...   True\n",
              "1691  815966073409433600  ...   True\n",
              "...                  ...  ...    ...\n",
              "1992  873697596434513921  ...  False\n",
              "2051  887473957103951883  ...   True\n",
              "2055  888202515573088257  ...   True\n",
              "1033  711694788429553666  ...  False\n",
              "1364  761371037149827077  ...  False\n",
              "\n",
              "[132 rows x 12 columns]"
            ]
          },
          "metadata": {
            "tags": []
          },
          "execution_count": 32
        }
      ]
    },
    {
      "cell_type": "code",
      "metadata": {
        "id": "CJy8EKv8D5Ug",
        "colab_type": "code",
        "colab": {
          "base_uri": "https://localhost:8080/",
          "height": 170
        },
        "outputId": "83da26f3-c30a-4f7a-eeea-e02e0b14100b"
      },
      "source": [
        "print(image_prediction.p1_dog.value_counts())\n",
        "print(image_prediction.p2_dog.value_counts())\n",
        "print(image_prediction.p3_dog.value_counts())"
      ],
      "execution_count": 33,
      "outputs": [
        {
          "output_type": "stream",
          "text": [
            "True     1532\n",
            "False     543\n",
            "Name: p1_dog, dtype: int64\n",
            "True     1553\n",
            "False     522\n",
            "Name: p2_dog, dtype: int64\n",
            "True     1499\n",
            "False     576\n",
            "Name: p3_dog, dtype: int64\n"
          ],
          "name": "stdout"
        }
      ]
    },
    {
      "cell_type": "code",
      "metadata": {
        "id": "2N_H7rC9D5Un",
        "colab_type": "code",
        "colab": {
          "base_uri": "https://localhost:8080/",
          "height": 102
        },
        "outputId": "a565ff64-b9c2-477b-fc6d-243baecfaeb9"
      },
      "source": [
        "image_prediction.img_num.value_counts()"
      ],
      "execution_count": 34,
      "outputs": [
        {
          "output_type": "execute_result",
          "data": {
            "text/plain": [
              "1    1780\n",
              "2     198\n",
              "3      66\n",
              "4      31\n",
              "Name: img_num, dtype: int64"
            ]
          },
          "metadata": {
            "tags": []
          },
          "execution_count": 34
        }
      ]
    },
    {
      "cell_type": "code",
      "metadata": {
        "id": "Ac2OIblBD5Uu",
        "colab_type": "code",
        "colab": {
          "base_uri": "https://localhost:8080/",
          "height": 719
        },
        "outputId": "19ef6ae1-a01c-41a9-a482-96dbd2ff4a93"
      },
      "source": [
        "tweet_json.sample(10)"
      ],
      "execution_count": 35,
      "outputs": [
        {
          "output_type": "execute_result",
          "data": {
            "text/html": [
              "<div>\n",
              "<style scoped>\n",
              "    .dataframe tbody tr th:only-of-type {\n",
              "        vertical-align: middle;\n",
              "    }\n",
              "\n",
              "    .dataframe tbody tr th {\n",
              "        vertical-align: top;\n",
              "    }\n",
              "\n",
              "    .dataframe thead th {\n",
              "        text-align: right;\n",
              "    }\n",
              "</style>\n",
              "<table border=\"1\" class=\"dataframe\">\n",
              "  <thead>\n",
              "    <tr style=\"text-align: right;\">\n",
              "      <th></th>\n",
              "      <th>tweet_id</th>\n",
              "      <th>favorite_count</th>\n",
              "      <th>retweet_count</th>\n",
              "      <th>followers_count</th>\n",
              "      <th>friends_count</th>\n",
              "      <th>source</th>\n",
              "      <th>retweeted_status</th>\n",
              "      <th>url</th>\n",
              "    </tr>\n",
              "  </thead>\n",
              "  <tbody>\n",
              "    <tr>\n",
              "      <th>1275</th>\n",
              "      <td>707693576495472641</td>\n",
              "      <td>3421</td>\n",
              "      <td>993</td>\n",
              "      <td>8756978</td>\n",
              "      <td>15</td>\n",
              "      <td>Twitter for iPhone</td>\n",
              "      <td>Original tweet</td>\n",
              "      <td>https://t.co/84L4ED9Tpi</td>\n",
              "    </tr>\n",
              "    <tr>\n",
              "      <th>789</th>\n",
              "      <td>771380798096281600</td>\n",
              "      <td>10682</td>\n",
              "      <td>5181</td>\n",
              "      <td>8756971</td>\n",
              "      <td>15</td>\n",
              "      <td>Twitter for iPhone</td>\n",
              "      <td>Original tweet</td>\n",
              "      <td>https://t.co/sPB5JMnWBn</td>\n",
              "    </tr>\n",
              "    <tr>\n",
              "      <th>115</th>\n",
              "      <td>869702957897576449</td>\n",
              "      <td>26925</td>\n",
              "      <td>5889</td>\n",
              "      <td>8756924</td>\n",
              "      <td>15</td>\n",
              "      <td>Twitter for iPhone</td>\n",
              "      <td>Original tweet</td>\n",
              "      <td>https://t.co/RjBqu7O8Yw</td>\n",
              "    </tr>\n",
              "    <tr>\n",
              "      <th>2218</th>\n",
              "      <td>667886921285246976</td>\n",
              "      <td>1813</td>\n",
              "      <td>1034</td>\n",
              "      <td>8757046</td>\n",
              "      <td>15</td>\n",
              "      <td>Twitter for iPhone</td>\n",
              "      <td>Original tweet</td>\n",
              "      <td>https://t.co/MT7Q4aDQS1</td>\n",
              "    </tr>\n",
              "    <tr>\n",
              "      <th>818</th>\n",
              "      <td>766864461642756096</td>\n",
              "      <td>0</td>\n",
              "      <td>5724</td>\n",
              "      <td>8756971</td>\n",
              "      <td>15</td>\n",
              "      <td>Twitter for iPhone</td>\n",
              "      <td>This is a retweet</td>\n",
              "      <td>This is a retweet</td>\n",
              "    </tr>\n",
              "    <tr>\n",
              "      <th>603</th>\n",
              "      <td>796080075804475393</td>\n",
              "      <td>8684</td>\n",
              "      <td>2384</td>\n",
              "      <td>8756929</td>\n",
              "      <td>15</td>\n",
              "      <td>Twitter for iPhone</td>\n",
              "      <td>Original tweet</td>\n",
              "      <td>https://t.co/opoXKxmfFm</td>\n",
              "    </tr>\n",
              "    <tr>\n",
              "      <th>822</th>\n",
              "      <td>766423258543644672</td>\n",
              "      <td>6105</td>\n",
              "      <td>1617</td>\n",
              "      <td>8756972</td>\n",
              "      <td>15</td>\n",
              "      <td>Twitter for iPhone</td>\n",
              "      <td>Original tweet</td>\n",
              "      <td>https://t.co/Tytt15VquG</td>\n",
              "    </tr>\n",
              "    <tr>\n",
              "      <th>366</th>\n",
              "      <td>827199976799354881</td>\n",
              "      <td>10728</td>\n",
              "      <td>2261</td>\n",
              "      <td>8756928</td>\n",
              "      <td>15</td>\n",
              "      <td>Twitter for iPhone</td>\n",
              "      <td>Original tweet</td>\n",
              "      <td>https://t.co/zV7A8OnKPV</td>\n",
              "    </tr>\n",
              "    <tr>\n",
              "      <th>228</th>\n",
              "      <td>847116187444137987</td>\n",
              "      <td>21353</td>\n",
              "      <td>3152</td>\n",
              "      <td>8757083</td>\n",
              "      <td>15</td>\n",
              "      <td>Twitter for iPhone</td>\n",
              "      <td>Original tweet</td>\n",
              "      <td>https://t.co/FoS7RUQGBI</td>\n",
              "    </tr>\n",
              "    <tr>\n",
              "      <th>719</th>\n",
              "      <td>780800785462489090</td>\n",
              "      <td>5610</td>\n",
              "      <td>1328</td>\n",
              "      <td>8756971</td>\n",
              "      <td>15</td>\n",
              "      <td>Twitter for iPhone</td>\n",
              "      <td>Original tweet</td>\n",
              "      <td>https://t.co/KQzSR8eCsw</td>\n",
              "    </tr>\n",
              "  </tbody>\n",
              "</table>\n",
              "</div>"
            ],
            "text/plain": [
              "                tweet_id  ...                      url\n",
              "1275  707693576495472641  ...  https://t.co/84L4ED9Tpi\n",
              "789   771380798096281600  ...  https://t.co/sPB5JMnWBn\n",
              "115   869702957897576449  ...  https://t.co/RjBqu7O8Yw\n",
              "2218  667886921285246976  ...  https://t.co/MT7Q4aDQS1\n",
              "818   766864461642756096  ...        This is a retweet\n",
              "603   796080075804475393  ...  https://t.co/opoXKxmfFm\n",
              "822   766423258543644672  ...  https://t.co/Tytt15VquG\n",
              "366   827199976799354881  ...  https://t.co/zV7A8OnKPV\n",
              "228   847116187444137987  ...  https://t.co/FoS7RUQGBI\n",
              "719   780800785462489090  ...  https://t.co/KQzSR8eCsw\n",
              "\n",
              "[10 rows x 8 columns]"
            ]
          },
          "metadata": {
            "tags": []
          },
          "execution_count": 35
        }
      ]
    },
    {
      "cell_type": "code",
      "metadata": {
        "id": "rRzyBQdJD5U0",
        "colab_type": "code",
        "colab": {
          "base_uri": "https://localhost:8080/",
          "height": 272
        },
        "outputId": "ab7677ee-824a-4e29-932a-7b854530b0eb"
      },
      "source": [
        "tweet_json.info()"
      ],
      "execution_count": 36,
      "outputs": [
        {
          "output_type": "stream",
          "text": [
            "<class 'pandas.core.frame.DataFrame'>\n",
            "RangeIndex: 2330 entries, 0 to 2329\n",
            "Data columns (total 8 columns):\n",
            " #   Column            Non-Null Count  Dtype \n",
            "---  ------            --------------  ----- \n",
            " 0   tweet_id          2330 non-null   object\n",
            " 1   favorite_count    2330 non-null   int64 \n",
            " 2   retweet_count     2330 non-null   int64 \n",
            " 3   followers_count   2330 non-null   int64 \n",
            " 4   friends_count     2330 non-null   int64 \n",
            " 5   source            2330 non-null   object\n",
            " 6   retweeted_status  2330 non-null   object\n",
            " 7   url               2330 non-null   object\n",
            "dtypes: int64(4), object(4)\n",
            "memory usage: 145.8+ KB\n"
          ],
          "name": "stdout"
        }
      ]
    },
    {
      "cell_type": "code",
      "metadata": {
        "id": "3Ik5u_unD5U8",
        "colab_type": "code",
        "colab": {
          "base_uri": "https://localhost:8080/",
          "height": 68
        },
        "outputId": "4b1dcafd-39ad-4ec4-90dd-677d4dcd6c99"
      },
      "source": [
        "tweet_json.retweeted_status.value_counts()"
      ],
      "execution_count": 37,
      "outputs": [
        {
          "output_type": "execute_result",
          "data": {
            "text/plain": [
              "Original tweet       2167\n",
              "This is a retweet     163\n",
              "Name: retweeted_status, dtype: int64"
            ]
          },
          "metadata": {
            "tags": []
          },
          "execution_count": 37
        }
      ]
    },
    {
      "cell_type": "code",
      "metadata": {
        "id": "UJa8sGObD5VD",
        "colab_type": "code",
        "colab": {
          "base_uri": "https://localhost:8080/",
          "height": 102
        },
        "outputId": "ad911262-ab6d-4d49-f4db-724ed06fc12e"
      },
      "source": [
        "tweet_json.source.value_counts()"
      ],
      "execution_count": 38,
      "outputs": [
        {
          "output_type": "execute_result",
          "data": {
            "text/plain": [
              "Twitter for iPhone     2196\n",
              "Vine - Make a Scene      91\n",
              "Twitter Web Client       33\n",
              "TweetDeck                10\n",
              "Name: source, dtype: int64"
            ]
          },
          "metadata": {
            "tags": []
          },
          "execution_count": 38
        }
      ]
    },
    {
      "cell_type": "markdown",
      "metadata": {
        "id": "1-kF-Gr7D5VL",
        "colab_type": "text"
      },
      "source": [
        "<a id='quality'></a>\n",
        "### Quality\n",
        "\n",
        "*Completeness, validity, accuracy, consistency (content issues)*"
      ]
    },
    {
      "cell_type": "markdown",
      "metadata": {
        "id": "hIOnmvcPD5VM",
        "colab_type": "text"
      },
      "source": [
        "### *twitter_archive*\n",
        "1. Keep original ratings (no retweets) that have images\n",
        "- Delete columns that won't be used for analysis\n",
        "- Erroneous datatypes (doggo, floofer, pupper and puppo columns)\n",
        "- Separate timestamp into day - month - year (3 columns)\n",
        "- Correct numerators with decimals\n",
        "- Correc denominators other than 10: \n",
        "    \n",
        "    a. Manually (few examples assessed by individual print text).\n",
        "    \n",
        "    b. Programatically (Tweets with denominator not equal to 10 are usually multiple dogs). \n"
      ]
    },
    {
      "cell_type": "markdown",
      "metadata": {
        "id": "73IhqgAdD5VO",
        "colab_type": "text"
      },
      "source": [
        "### *image_prediction*\n",
        "6. Drop 66 jpg_url duplicated\n",
        "7. Create 1 column for image prediction and 1 column for confidence level\n",
        "8. Delete columns that won't be used for analysis "
      ]
    },
    {
      "cell_type": "markdown",
      "metadata": {
        "id": "ceE2hNMED5VQ",
        "colab_type": "text"
      },
      "source": [
        "### *tweet_json*\n",
        "1. Keep original tweets only\n"
      ]
    },
    {
      "cell_type": "markdown",
      "metadata": {
        "id": "cmQvWxxQD5VS",
        "colab_type": "text"
      },
      "source": [
        "<a id='tidiness'></a>\n",
        "### Tidiness \n",
        "\n",
        "1. Change tweet_id to type int64 in order to merge with the other 2 tables\n",
        "- All tables should be part of one dataset"
      ]
    },
    {
      "cell_type": "markdown",
      "metadata": {
        "id": "X1weUJRND5VT",
        "colab_type": "text"
      },
      "source": [
        "<a id='clean'></a>\n",
        "## Cleaning Data"
      ]
    },
    {
      "cell_type": "code",
      "metadata": {
        "id": "ryn6MkHFD5VU",
        "colab_type": "code",
        "colab": {}
      },
      "source": [
        "twitter_archive_clean = arch.copy()\n",
        "image_prediction_clean = image_prediction.copy()\n",
        "tweet_json_clean = tweet_json.copy()"
      ],
      "execution_count": 0,
      "outputs": []
    },
    {
      "cell_type": "markdown",
      "metadata": {
        "id": "36-TcVW0D5Va",
        "colab_type": "text"
      },
      "source": [
        "**1. Twitter archive** - keep original ratings (no retweets) that have images. \n",
        "\n",
        "Based on info, there are 181 values in retweeted_status_id and retweeted_status_user_id. Delete the retweets. Once I merge twitter_archive and image_prediction, I will only keep the ones with images."
      ]
    },
    {
      "cell_type": "code",
      "metadata": {
        "id": "h7cbd9zwD5Vb",
        "colab_type": "code",
        "colab": {
          "base_uri": "https://localhost:8080/",
          "height": 34
        },
        "outputId": "2dab7fd9-9a57-4ee5-aace-23fe67c37c31"
      },
      "source": [
        "#CODE: Delete retweets by filtering the NaN of retweeted_status_user_id\n",
        "twitter_archive_clean = twitter_archive_clean[pd.isnull(twitter_archive_clean['retweeted_status_user_id'])]\n",
        "\n",
        "#TEST\n",
        "print(sum(twitter_archive_clean.retweeted_status_user_id.value_counts()))"
      ],
      "execution_count": 41,
      "outputs": [
        {
          "output_type": "stream",
          "text": [
            "0\n"
          ],
          "name": "stdout"
        }
      ]
    },
    {
      "cell_type": "markdown",
      "metadata": {
        "id": "cTWScHPbD5Vj",
        "colab_type": "text"
      },
      "source": [
        "**2. Twitter archive** - Delete columns that won't be used for analysis"
      ]
    },
    {
      "cell_type": "code",
      "metadata": {
        "id": "vSF0OM1nD5Vk",
        "colab_type": "code",
        "colab": {
          "base_uri": "https://localhost:8080/",
          "height": 54
        },
        "outputId": "2944b576-94f6-4432-cf5b-97332e6f03bc"
      },
      "source": [
        "#get the column names of twitter_archive_clean\n",
        "print(list(twitter_archive_clean))\n",
        "\n",
        "#CODE: Delete columns no needed\n",
        "twitter_archive_clean = twitter_archive_clean.drop(['source',\n",
        "                                                    'in_reply_to_status_id',\n",
        "                                                    'in_reply_to_user_id',\n",
        "                                                    'retweeted_status_id',\n",
        "                                                    'retweeted_status_user_id', \n",
        "                                                    'retweeted_status_timestamp', \n",
        "                                                    'expanded_urls'], 1)\n"
      ],
      "execution_count": 42,
      "outputs": [
        {
          "output_type": "stream",
          "text": [
            "['tweet_id', 'in_reply_to_status_id', 'in_reply_to_user_id', 'timestamp', 'source', 'text', 'retweeted_status_id', 'retweeted_status_user_id', 'retweeted_status_timestamp', 'expanded_urls', 'rating_numerator', 'rating_denominator', 'name', 'doggo', 'floofer', 'pupper', 'puppo']\n"
          ],
          "name": "stdout"
        }
      ]
    },
    {
      "cell_type": "code",
      "metadata": {
        "id": "6fN7JPZ-D5Vv",
        "colab_type": "code",
        "colab": {
          "base_uri": "https://localhost:8080/",
          "height": 187
        },
        "outputId": "04b51be5-627f-4f48-bf82-daa2c332b238"
      },
      "source": [
        "#TEST\n",
        "list(twitter_archive_clean)"
      ],
      "execution_count": 43,
      "outputs": [
        {
          "output_type": "execute_result",
          "data": {
            "text/plain": [
              "['tweet_id',\n",
              " 'timestamp',\n",
              " 'text',\n",
              " 'rating_numerator',\n",
              " 'rating_denominator',\n",
              " 'name',\n",
              " 'doggo',\n",
              " 'floofer',\n",
              " 'pupper',\n",
              " 'puppo']"
            ]
          },
          "metadata": {
            "tags": []
          },
          "execution_count": 43
        }
      ]
    },
    {
      "cell_type": "markdown",
      "metadata": {
        "id": "s6Wd7Vw5D5V2",
        "colab_type": "text"
      },
      "source": [
        "**3. Twitter_archive** - Erroneous datatypes (doggo, floofer, pupper and puppo columns)"
      ]
    },
    {
      "cell_type": "code",
      "metadata": {
        "id": "avMzWhdqD5V3",
        "colab_type": "code",
        "colab": {}
      },
      "source": [
        "#CODE: Melt the doggo, floofer, pupper and puppo columns to dogs and dogs_stage column\n",
        "twitter_archive_clean = pd.melt(twitter_archive_clean, id_vars=['tweet_id',                                          \n",
        "                                                                'timestamp',\n",
        "                                                                'text',\n",
        "                                                                'rating_numerator',\n",
        "                                                                'rating_denominator',\n",
        "                                                                'name'],\n",
        "                               var_name='dogs', value_name='dogs_stage')\n",
        "\n",
        "#CODE: drop dogs\n",
        "twitter_archive_clean = twitter_archive_clean.drop('dogs', 1)\n",
        "\n",
        "#CODE: Sort by dogs_stage then drop duplicated based on tweet_id except the last occurrence\n",
        "twitter_archive_clean = twitter_archive_clean.sort_values('dogs_stage').drop_duplicates(subset='tweet_id', \n",
        "                                                                                        keep='last')\n",
        "                            "
      ],
      "execution_count": 0,
      "outputs": []
    },
    {
      "cell_type": "code",
      "metadata": {
        "id": "l-YIhrxfD5V8",
        "colab_type": "code",
        "colab": {
          "base_uri": "https://localhost:8080/",
          "height": 119
        },
        "outputId": "d3e2e7da-2a6f-479a-f815-23a3de9d56da"
      },
      "source": [
        "#TEST\n",
        "twitter_archive_clean['dogs_stage'].value_counts()"
      ],
      "execution_count": 45,
      "outputs": [
        {
          "output_type": "execute_result",
          "data": {
            "text/plain": [
              "None       1831\n",
              "pupper      234\n",
              "doggo        75\n",
              "puppo        25\n",
              "floofer      10\n",
              "Name: dogs_stage, dtype: int64"
            ]
          },
          "metadata": {
            "tags": []
          },
          "execution_count": 45
        }
      ]
    },
    {
      "cell_type": "markdown",
      "metadata": {
        "id": "4G6_QXFbD5WD",
        "colab_type": "text"
      },
      "source": [
        "**4. Twitter_archive** - Separate timestamp into day - month - year (3 columns)\n",
        "\n",
        "First convert *timestamp* to datetime. Then extract year, month and day to new columns. Finally drop *timestamp* column. "
      ]
    },
    {
      "cell_type": "code",
      "metadata": {
        "id": "-wuEXLeYD5WG",
        "colab_type": "code",
        "colab": {}
      },
      "source": [
        "#CODE: convert timestamp to datetime\n",
        "twitter_archive_clean['timestamp'] = pd.to_datetime(twitter_archive_clean['timestamp'])\n",
        "\n",
        "#extract year, month and day to new columns\n",
        "twitter_archive_clean['year'] = twitter_archive_clean['timestamp'].dt.year\n",
        "twitter_archive_clean['month'] = twitter_archive_clean['timestamp'].dt.month\n",
        "twitter_archive_clean['day'] = twitter_archive_clean['timestamp'].dt.day\n",
        "\n",
        "#Finally drop timestamp column\n",
        "twitter_archive_clean = twitter_archive_clean.drop('timestamp', 1)"
      ],
      "execution_count": 0,
      "outputs": []
    },
    {
      "cell_type": "code",
      "metadata": {
        "id": "Vyt7rDHWD5WM",
        "colab_type": "code",
        "colab": {
          "base_uri": "https://localhost:8080/",
          "height": 170
        },
        "outputId": "d369a5cd-091f-4af2-b625-cab7c1f7e977"
      },
      "source": [
        "#TEST\n",
        "list(twitter_archive_clean)"
      ],
      "execution_count": 47,
      "outputs": [
        {
          "output_type": "execute_result",
          "data": {
            "text/plain": [
              "['tweet_id',\n",
              " 'text',\n",
              " 'rating_numerator',\n",
              " 'rating_denominator',\n",
              " 'name',\n",
              " 'dogs_stage',\n",
              " 'year',\n",
              " 'month',\n",
              " 'day']"
            ]
          },
          "metadata": {
            "tags": []
          },
          "execution_count": 47
        }
      ]
    },
    {
      "cell_type": "markdown",
      "metadata": {
        "id": "5eyT-03UD5WV",
        "colab_type": "text"
      },
      "source": [
        "**5. Twitter_archive** - Correc numerators"
      ]
    },
    {
      "cell_type": "code",
      "metadata": {
        "id": "d2TlpAvdD5WW",
        "colab_type": "code",
        "colab": {
          "base_uri": "https://localhost:8080/",
          "height": 289
        },
        "outputId": "0909324a-fad3-4ce8-c5d2-e93d36058cc4"
      },
      "source": [
        "\n",
        "twitter_archive_clean[['rating_numerator', 'rating_denominator']] = twitter_archive_clean[['rating_numerator','rating_denominator']].astype(float)\n",
        "\n",
        "twitter_archive_clean.info()"
      ],
      "execution_count": 48,
      "outputs": [
        {
          "output_type": "stream",
          "text": [
            "<class 'pandas.core.frame.DataFrame'>\n",
            "Int64Index: 2175 entries, 2095 to 7298\n",
            "Data columns (total 9 columns):\n",
            " #   Column              Non-Null Count  Dtype  \n",
            "---  ------              --------------  -----  \n",
            " 0   tweet_id            2175 non-null   int64  \n",
            " 1   text                2175 non-null   object \n",
            " 2   rating_numerator    2175 non-null   float64\n",
            " 3   rating_denominator  2175 non-null   float64\n",
            " 4   name                2175 non-null   object \n",
            " 5   dogs_stage          2175 non-null   object \n",
            " 6   year                2175 non-null   int64  \n",
            " 7   month               2175 non-null   int64  \n",
            " 8   day                 2175 non-null   int64  \n",
            "dtypes: float64(2), int64(4), object(3)\n",
            "memory usage: 169.9+ KB\n"
          ],
          "name": "stdout"
        }
      ]
    },
    {
      "cell_type": "code",
      "metadata": {
        "id": "szZpsb9bD5Wc",
        "colab_type": "code",
        "colab": {
          "base_uri": "https://localhost:8080/",
          "height": 360
        },
        "outputId": "49dbd26f-dfc4-46a0-9d82-adcf3cf09a34"
      },
      "source": [
        "#CODE\n",
        "\n",
        "#First change numerator and denominators type int to float to allow decimals \n",
        "twitter_archive_clean[['rating_numerator', 'rating_denominator']] = twitter_archive_clean[['rating_numerator','rating_denominator']].astype(float)\n",
        "\n",
        "#Update numerators\n",
        "\n",
        "twitter_archive_clean.loc[(twitter_archive_clean.tweet_id == 883482846933004288), 'rating_numerator'] = 13.5\n",
        "twitter_archive_clean.loc[(twitter_archive_clean.tweet_id == 786709082849828864), 'rating_numerator'] = 9.75\n",
        "twitter_archive_clean.loc[(twitter_archive_clean.tweet_id == 778027034220126208), 'rating_numerator'] = 11.27\n",
        "twitter_archive_clean.loc[(twitter_archive_clean.tweet_id == 681340665377193984), 'rating_numerator'] = 9.5\n",
        "twitter_archive_clean.loc[(twitter_archive_clean.tweet_id == 680494726643068929), 'rating_numerator'] = 11.26\n",
        "\n",
        "#TEST\n",
        "with pd.option_context('max_colwidth', 200):\n",
        "    display(twitter_archive_clean[twitter_archive_clean['text'].str.contains(r\"(\\d+\\.\\d*\\/\\d+)\")]\n",
        "            [['tweet_id', 'text', 'rating_numerator', 'rating_denominator']])"
      ],
      "execution_count": 49,
      "outputs": [
        {
          "output_type": "stream",
          "text": [
            "/usr/local/lib/python3.6/dist-packages/pandas/core/strings.py:1954: UserWarning: This pattern has match groups. To actually get the groups, use str.extract.\n",
            "  return func(self, *args, **kwargs)\n"
          ],
          "name": "stderr"
        },
        {
          "output_type": "display_data",
          "data": {
            "text/html": [
              "<div>\n",
              "<style scoped>\n",
              "    .dataframe tbody tr th:only-of-type {\n",
              "        vertical-align: middle;\n",
              "    }\n",
              "\n",
              "    .dataframe tbody tr th {\n",
              "        vertical-align: top;\n",
              "    }\n",
              "\n",
              "    .dataframe thead th {\n",
              "        text-align: right;\n",
              "    }\n",
              "</style>\n",
              "<table border=\"1\" class=\"dataframe\">\n",
              "  <thead>\n",
              "    <tr style=\"text-align: right;\">\n",
              "      <th></th>\n",
              "      <th>tweet_id</th>\n",
              "      <th>text</th>\n",
              "      <th>rating_numerator</th>\n",
              "      <th>rating_denominator</th>\n",
              "    </tr>\n",
              "  </thead>\n",
              "  <tbody>\n",
              "    <tr>\n",
              "      <th>42</th>\n",
              "      <td>883482846933004288</td>\n",
              "      <td>This is Bella. She hopes her smile made you smile. If not, she is also offering you her favorite monkey. 13.5/10 https://t.co/qjrljjt948</td>\n",
              "      <td>13.50</td>\n",
              "      <td>10.0</td>\n",
              "    </tr>\n",
              "    <tr>\n",
              "      <th>3685</th>\n",
              "      <td>681340665377193984</td>\n",
              "      <td>I've been told there's a slight possibility he's checking his mirror. We'll bump to 9.5/10. Still a menace</td>\n",
              "      <td>9.50</td>\n",
              "      <td>10.0</td>\n",
              "    </tr>\n",
              "    <tr>\n",
              "      <th>3708</th>\n",
              "      <td>680494726643068929</td>\n",
              "      <td>Here we have uncovered an entire battalion of holiday puppers. Average of 11.26/10 https://t.co/eNm2S6p9BD</td>\n",
              "      <td>11.26</td>\n",
              "      <td>10.0</td>\n",
              "    </tr>\n",
              "    <tr>\n",
              "      <th>2733</th>\n",
              "      <td>786709082849828864</td>\n",
              "      <td>This is Logan, the Chow who lived. He solemnly swears he's up to lots of good. H*ckin magical af 9.75/10 https://t.co/yBO5wuqaPS</td>\n",
              "      <td>9.75</td>\n",
              "      <td>10.0</td>\n",
              "    </tr>\n",
              "    <tr>\n",
              "      <th>4967</th>\n",
              "      <td>778027034220126208</td>\n",
              "      <td>This is Sophie. She's a Jubilant Bush Pupper. Super h*ckin rare. Appears at random just to smile at the locals. 11.27/10 would smile back https://t.co/QFaUiIHxHq</td>\n",
              "      <td>11.27</td>\n",
              "      <td>10.0</td>\n",
              "    </tr>\n",
              "  </tbody>\n",
              "</table>\n",
              "</div>"
            ],
            "text/plain": [
              "                tweet_id  ... rating_denominator\n",
              "42    883482846933004288  ...               10.0\n",
              "3685  681340665377193984  ...               10.0\n",
              "3708  680494726643068929  ...               10.0\n",
              "2733  786709082849828864  ...               10.0\n",
              "4967  778027034220126208  ...               10.0\n",
              "\n",
              "[5 rows x 4 columns]"
            ]
          },
          "metadata": {
            "tags": []
          }
        }
      ]
    },
    {
      "cell_type": "markdown",
      "metadata": {
        "id": "RWKK1sz7D5Wh",
        "colab_type": "text"
      },
      "source": [
        "**6. Twitter_archive** - Correc denominators\n",
        "\n",
        "#### *a. Manually*"
      ]
    },
    {
      "cell_type": "code",
      "metadata": {
        "id": "QJEtm7cCD5Wi",
        "colab_type": "code",
        "colab": {
          "base_uri": "https://localhost:8080/",
          "height": 659
        },
        "outputId": "362a6890-f475-4ef5-e797-4829e841ddad"
      },
      "source": [
        "#CODE: Update both numerators and denominators\n",
        "twitter_archive_clean.loc[(twitter_archive_clean.tweet_id == 740373189193256964), 'rating_numerator'] = 14\n",
        "twitter_archive_clean.loc[(twitter_archive_clean.tweet_id == 740373189193256964), 'rating_denominator'] = 10\n",
        "\n",
        "twitter_archive_clean.loc[(twitter_archive_clean.tweet_id == 682962037429899265), 'rating_numerator'] = 10\n",
        "twitter_archive_clean.loc[(twitter_archive_clean.tweet_id == 682962037429899265), 'rating_denominator'] = 10\n",
        "\n",
        "twitter_archive_clean.loc[(twitter_archive_clean.tweet_id == 666287406224695296), 'rating_numerator'] = 9\n",
        "twitter_archive_clean.loc[(twitter_archive_clean.tweet_id == 666287406224695296), 'rating_denominator'] = 10\n",
        "\n",
        "twitter_archive_clean.loc[(twitter_archive_clean.tweet_id == 722974582966214656), 'rating_numerator'] = 13\n",
        "twitter_archive_clean.loc[(twitter_archive_clean.tweet_id == 722974582966214656), 'rating_denominator'] = 10\n",
        "\n",
        "twitter_archive_clean.loc[(twitter_archive_clean.tweet_id == 716439118184652801), 'rating_numerator'] = 13.5\n",
        "twitter_archive_clean.loc[(twitter_archive_clean.tweet_id == 716439118184652801), 'rating_denominator'] = 10\n",
        "\n",
        "#CODE: Delete five tweets with no actual ratings\n",
        "twitter_archive_clean = twitter_archive_clean[twitter_archive_clean['tweet_id'] != 832088576586297345]\n",
        "twitter_archive_clean = twitter_archive_clean[twitter_archive_clean['tweet_id'] != 810984652412424192]\n",
        "twitter_archive_clean = twitter_archive_clean[twitter_archive_clean['tweet_id'] != 682808988178739200]\n",
        "twitter_archive_clean = twitter_archive_clean[twitter_archive_clean['tweet_id'] != 835246439529840640]\n",
        "twitter_archive_clean = twitter_archive_clean[twitter_archive_clean['tweet_id'] != 686035780142297088]\n",
        "\n",
        "#TEST: Left only the group dogs for programatically clean\n",
        "with pd.option_context('max_colwidth', 200):\n",
        "    display(twitter_archive_clean[twitter_archive_clean['rating_denominator'] != 10][['tweet_id',\n",
        "                                                                                      'text',\n",
        "                                                                                      'rating_numerator',\n",
        "                                                                                      'rating_denominator']])"
      ],
      "execution_count": 50,
      "outputs": [
        {
          "output_type": "display_data",
          "data": {
            "text/html": [
              "<div>\n",
              "<style scoped>\n",
              "    .dataframe tbody tr th:only-of-type {\n",
              "        vertical-align: middle;\n",
              "    }\n",
              "\n",
              "    .dataframe tbody tr th {\n",
              "        vertical-align: top;\n",
              "    }\n",
              "\n",
              "    .dataframe thead th {\n",
              "        text-align: right;\n",
              "    }\n",
              "</style>\n",
              "<table border=\"1\" class=\"dataframe\">\n",
              "  <thead>\n",
              "    <tr style=\"text-align: right;\">\n",
              "      <th></th>\n",
              "      <th>tweet_id</th>\n",
              "      <th>text</th>\n",
              "      <th>rating_numerator</th>\n",
              "      <th>rating_denominator</th>\n",
              "    </tr>\n",
              "  </thead>\n",
              "  <tbody>\n",
              "    <tr>\n",
              "      <th>3429</th>\n",
              "      <td>697463031882764288</td>\n",
              "      <td>Happy Wednesday here's a bucket of pups. 44/40 would pet all at once https://t.co/HppvrYuamZ</td>\n",
              "      <td>44.0</td>\n",
              "      <td>40.0</td>\n",
              "    </tr>\n",
              "    <tr>\n",
              "      <th>3631</th>\n",
              "      <td>684222868335505415</td>\n",
              "      <td>Someone help the girl is being mugged. Several are distracting her while two steal her shoes. Clever puppers 121/110 https://t.co/1zfnTJLt55</td>\n",
              "      <td>121.0</td>\n",
              "      <td>110.0</td>\n",
              "    </tr>\n",
              "    <tr>\n",
              "      <th>3630</th>\n",
              "      <td>684225744407494656</td>\n",
              "      <td>Two sneaky puppers were not initially seen, moving the rating to 143/130. Please forgive us. Thank you https://t.co/kRK51Y5ac3</td>\n",
              "      <td>143.0</td>\n",
              "      <td>130.0</td>\n",
              "    </tr>\n",
              "    <tr>\n",
              "      <th>3250</th>\n",
              "      <td>710658690886586372</td>\n",
              "      <td>Here's a brigade of puppers. All look very prepared for whatever happens next. 80/80 https://t.co/0eb7R1Om12</td>\n",
              "      <td>80.0</td>\n",
              "      <td>80.0</td>\n",
              "    </tr>\n",
              "    <tr>\n",
              "      <th>3225</th>\n",
              "      <td>713900603437621249</td>\n",
              "      <td>Happy Saturday here's 9 puppers on a bench. 99/90 good work everybody https://t.co/mpvaVxKmc1</td>\n",
              "      <td>99.0</td>\n",
              "      <td>90.0</td>\n",
              "    </tr>\n",
              "    <tr>\n",
              "      <th>3270</th>\n",
              "      <td>709198395643068416</td>\n",
              "      <td>From left to right:\\nCletus, Jerome, Alejandro, Burp, &amp;amp; Titson\\nNone know where camera is. 45/50 would hug all at once https://t.co/sedre1ivTK</td>\n",
              "      <td>45.0</td>\n",
              "      <td>50.0</td>\n",
              "    </tr>\n",
              "    <tr>\n",
              "      <th>3347</th>\n",
              "      <td>704054845121142784</td>\n",
              "      <td>Here is a whole flock of puppers.  60/50 I'll take the lot https://t.co/9dpcw6MdWa</td>\n",
              "      <td>60.0</td>\n",
              "      <td>50.0</td>\n",
              "    </tr>\n",
              "    <tr>\n",
              "      <th>3775</th>\n",
              "      <td>677716515794329600</td>\n",
              "      <td>IT'S PUPPERGEDDON. Total of 144/120 ...I think https://t.co/ZanVtAtvIq</td>\n",
              "      <td>144.0</td>\n",
              "      <td>120.0</td>\n",
              "    </tr>\n",
              "    <tr>\n",
              "      <th>3839</th>\n",
              "      <td>675853064436391936</td>\n",
              "      <td>Here we have an entire platoon of puppers. Total score: 88/80 would pet all at once https://t.co/y93p6FLvVw</td>\n",
              "      <td>88.0</td>\n",
              "      <td>80.0</td>\n",
              "    </tr>\n",
              "    <tr>\n",
              "      <th>2538</th>\n",
              "      <td>820690176645140481</td>\n",
              "      <td>The floofs have been released I repeat the floofs have been released. 84/70 https://t.co/NIYC820tmd</td>\n",
              "      <td>84.0</td>\n",
              "      <td>70.0</td>\n",
              "    </tr>\n",
              "    <tr>\n",
              "      <th>2908</th>\n",
              "      <td>758467244762497024</td>\n",
              "      <td>Why does this never happen at my front door... 165/150 https://t.co/HmwrdfEfUE</td>\n",
              "      <td>165.0</td>\n",
              "      <td>150.0</td>\n",
              "    </tr>\n",
              "    <tr>\n",
              "      <th>3117</th>\n",
              "      <td>731156023742988288</td>\n",
              "      <td>Say hello to this unbelievably well behaved squad of doggos. 204/170 would try to pet all at once https://t.co/yGQI3He3xv</td>\n",
              "      <td>204.0</td>\n",
              "      <td>170.0</td>\n",
              "    </tr>\n",
              "  </tbody>\n",
              "</table>\n",
              "</div>"
            ],
            "text/plain": [
              "                tweet_id  ... rating_denominator\n",
              "3429  697463031882764288  ...               40.0\n",
              "3631  684222868335505415  ...              110.0\n",
              "3630  684225744407494656  ...              130.0\n",
              "3250  710658690886586372  ...               80.0\n",
              "3225  713900603437621249  ...               90.0\n",
              "3270  709198395643068416  ...               50.0\n",
              "3347  704054845121142784  ...               50.0\n",
              "3775  677716515794329600  ...              120.0\n",
              "3839  675853064436391936  ...               80.0\n",
              "2538  820690176645140481  ...               70.0\n",
              "2908  758467244762497024  ...              150.0\n",
              "3117  731156023742988288  ...              170.0\n",
              "\n",
              "[12 rows x 4 columns]"
            ]
          },
          "metadata": {
            "tags": []
          }
        }
      ]
    },
    {
      "cell_type": "markdown",
      "metadata": {
        "id": "VDn0ZvvnD5Wo",
        "colab_type": "text"
      },
      "source": [
        "#### *b. Programatically* "
      ]
    },
    {
      "cell_type": "code",
      "metadata": {
        "id": "P5sELJISD5Wp",
        "colab_type": "code",
        "colab": {
          "base_uri": "https://localhost:8080/",
          "height": 632
        },
        "outputId": "cb2a0bb2-9297-458f-f4d7-227aaaf6592f"
      },
      "source": [
        "#CODE: Create a new column with rating in float type to avoid converting all int column to float\n",
        "twitter_archive_clean['rating'] = 10 * twitter_archive_clean['rating_numerator'] / twitter_archive_clean['rating_denominator'].astype(float)\n",
        "\n",
        "#TEST\n",
        "twitter_archive_clean.sample(5)"
      ],
      "execution_count": 51,
      "outputs": [
        {
          "output_type": "execute_result",
          "data": {
            "text/html": [
              "<div>\n",
              "<style scoped>\n",
              "    .dataframe tbody tr th:only-of-type {\n",
              "        vertical-align: middle;\n",
              "    }\n",
              "\n",
              "    .dataframe tbody tr th {\n",
              "        vertical-align: top;\n",
              "    }\n",
              "\n",
              "    .dataframe thead th {\n",
              "        text-align: right;\n",
              "    }\n",
              "</style>\n",
              "<table border=\"1\" class=\"dataframe\">\n",
              "  <thead>\n",
              "    <tr style=\"text-align: right;\">\n",
              "      <th></th>\n",
              "      <th>tweet_id</th>\n",
              "      <th>text</th>\n",
              "      <th>rating_numerator</th>\n",
              "      <th>rating_denominator</th>\n",
              "      <th>name</th>\n",
              "      <th>dogs_stage</th>\n",
              "      <th>year</th>\n",
              "      <th>month</th>\n",
              "      <th>day</th>\n",
              "      <th>rating</th>\n",
              "    </tr>\n",
              "  </thead>\n",
              "  <tbody>\n",
              "    <tr>\n",
              "      <th>2723</th>\n",
              "      <td>788765914992902144</td>\n",
              "      <td>This is Butter. She can have whatever she want...</td>\n",
              "      <td>12.0</td>\n",
              "      <td>10.0</td>\n",
              "      <td>Butter</td>\n",
              "      <td>None</td>\n",
              "      <td>2016</td>\n",
              "      <td>10</td>\n",
              "      <td>19</td>\n",
              "      <td>12.0</td>\n",
              "    </tr>\n",
              "    <tr>\n",
              "      <th>3394</th>\n",
              "      <td>699775878809702401</td>\n",
              "      <td>Meet Fillup. Spaghetti is his main weakness. A...</td>\n",
              "      <td>11.0</td>\n",
              "      <td>10.0</td>\n",
              "      <td>Fillup</td>\n",
              "      <td>None</td>\n",
              "      <td>2016</td>\n",
              "      <td>2</td>\n",
              "      <td>17</td>\n",
              "      <td>11.0</td>\n",
              "    </tr>\n",
              "    <tr>\n",
              "      <th>3400</th>\n",
              "      <td>699370870310113280</td>\n",
              "      <td>Say hello to Calbert. He doesn't have enough l...</td>\n",
              "      <td>11.0</td>\n",
              "      <td>10.0</td>\n",
              "      <td>Calbert</td>\n",
              "      <td>None</td>\n",
              "      <td>2016</td>\n",
              "      <td>2</td>\n",
              "      <td>15</td>\n",
              "      <td>11.0</td>\n",
              "    </tr>\n",
              "    <tr>\n",
              "      <th>3321</th>\n",
              "      <td>706166467411222528</td>\n",
              "      <td>This is Dexter. He's a shy pup. Doesn't bark m...</td>\n",
              "      <td>7.0</td>\n",
              "      <td>10.0</td>\n",
              "      <td>Dexter</td>\n",
              "      <td>None</td>\n",
              "      <td>2016</td>\n",
              "      <td>3</td>\n",
              "      <td>5</td>\n",
              "      <td>7.0</td>\n",
              "    </tr>\n",
              "    <tr>\n",
              "      <th>2396</th>\n",
              "      <td>843856843873095681</td>\n",
              "      <td>Say hello to Sadie and Daisy. They do all thei...</td>\n",
              "      <td>12.0</td>\n",
              "      <td>10.0</td>\n",
              "      <td>Sadie</td>\n",
              "      <td>None</td>\n",
              "      <td>2017</td>\n",
              "      <td>3</td>\n",
              "      <td>20</td>\n",
              "      <td>12.0</td>\n",
              "    </tr>\n",
              "  </tbody>\n",
              "</table>\n",
              "</div>"
            ],
            "text/plain": [
              "                tweet_id  ... rating\n",
              "2723  788765914992902144  ...   12.0\n",
              "3394  699775878809702401  ...   11.0\n",
              "3400  699370870310113280  ...   11.0\n",
              "3321  706166467411222528  ...    7.0\n",
              "2396  843856843873095681  ...   12.0\n",
              "\n",
              "[5 rows x 10 columns]"
            ]
          },
          "metadata": {
            "tags": []
          },
          "execution_count": 51
        }
      ]
    },
    {
      "cell_type": "markdown",
      "metadata": {
        "id": "OCPxqD1tD5Ww",
        "colab_type": "text"
      },
      "source": [
        "**7. Image_prediction** - Drop 66 jpg_url duplicated"
      ]
    },
    {
      "cell_type": "code",
      "metadata": {
        "id": "FMHDe32tD5Wx",
        "colab_type": "code",
        "colab": {
          "base_uri": "https://localhost:8080/",
          "height": 34
        },
        "outputId": "95544d23-b840-47ae-8d90-fef561c10c23"
      },
      "source": [
        "#CODE: Delete duplicated jpg_url\n",
        "image_prediction_clean = image_prediction_clean.drop_duplicates(subset=['jpg_url'], keep='last')\n",
        "\n",
        "#TEST\n",
        "sum(image_prediction_clean['jpg_url'].duplicated())"
      ],
      "execution_count": 52,
      "outputs": [
        {
          "output_type": "execute_result",
          "data": {
            "text/plain": [
              "0"
            ]
          },
          "metadata": {
            "tags": []
          },
          "execution_count": 52
        }
      ]
    },
    {
      "cell_type": "code",
      "metadata": {
        "id": "3G9bQPZ5D5W5",
        "colab_type": "code",
        "colab": {}
      },
      "source": [
        "#CODE: the first true prediction (p1, p2 or p3) will be store in these lists\n",
        "dog_type = []\n",
        "confidence_list = []\n",
        "\n",
        "#create a function with nested if to capture the dog type and confidence level\n",
        "# from the first 'true' prediction\n",
        "def image(image_prediction_clean):\n",
        "    if image_prediction_clean['p1_dog'] == True:\n",
        "        dog_type.append(image_prediction_clean['p1'])\n",
        "        confidence_list.append(image_prediction_clean['p1_conf'])\n",
        "    elif image_prediction_clean['p2_dog'] == True:\n",
        "        dog_type.append(image_prediction_clean['p2'])\n",
        "        confidence_list.append(image_prediction_clean['p2_conf'])\n",
        "    elif image_prediction_clean['p3_dog'] == True:\n",
        "        dog_type.append(image_prediction_clean['p3'])\n",
        "        confidence_list.append(image_prediction_clean['p3_conf'])\n",
        "    else:\n",
        "        dog_type.append('Error')\n",
        "        confidence_list.append('Error')\n",
        "\n",
        "#series objects having index the image_prediction_clean column.        \n",
        "image_prediction_clean.apply(image, axis=1)\n",
        "\n",
        "#create new columns\n",
        "image_prediction_clean['dog_type'] = dog_type\n",
        "image_prediction_clean['confidence_list'] = confidence_list"
      ],
      "execution_count": 0,
      "outputs": []
    },
    {
      "cell_type": "code",
      "metadata": {
        "id": "BKg14AYsD5XC",
        "colab_type": "code",
        "colab": {
          "base_uri": "https://localhost:8080/",
          "height": 374
        },
        "outputId": "fd01aa18-997c-49c6-aee2-efb47d302380"
      },
      "source": [
        "#drop rows that has prediction_list 'error'\n",
        "image_prediction_clean = image_prediction_clean[image_prediction_clean['dog_type'] != 'Error']\n",
        "\n",
        "#TEST: \n",
        "image_prediction_clean.info()"
      ],
      "execution_count": 54,
      "outputs": [
        {
          "output_type": "stream",
          "text": [
            "<class 'pandas.core.frame.DataFrame'>\n",
            "Int64Index: 1691 entries, 0 to 2073\n",
            "Data columns (total 14 columns):\n",
            " #   Column           Non-Null Count  Dtype  \n",
            "---  ------           --------------  -----  \n",
            " 0   tweet_id         1691 non-null   int64  \n",
            " 1   jpg_url          1691 non-null   object \n",
            " 2   img_num          1691 non-null   int64  \n",
            " 3   p1               1691 non-null   object \n",
            " 4   p1_conf          1691 non-null   float64\n",
            " 5   p1_dog           1691 non-null   bool   \n",
            " 6   p2               1691 non-null   object \n",
            " 7   p2_conf          1691 non-null   float64\n",
            " 8   p2_dog           1691 non-null   bool   \n",
            " 9   p3               1691 non-null   object \n",
            " 10  p3_conf          1691 non-null   float64\n",
            " 11  p3_dog           1691 non-null   bool   \n",
            " 12  dog_type         1691 non-null   object \n",
            " 13  confidence_list  1691 non-null   object \n",
            "dtypes: bool(3), float64(3), int64(2), object(6)\n",
            "memory usage: 163.5+ KB\n"
          ],
          "name": "stdout"
        }
      ]
    },
    {
      "cell_type": "markdown",
      "metadata": {
        "id": "eVD5dwYYD5XM",
        "colab_type": "text"
      },
      "source": [
        "**9. Image_prediction** - Delete columns that won't be used for analysis"
      ]
    },
    {
      "cell_type": "code",
      "metadata": {
        "id": "ICjbap5DD5XN",
        "colab_type": "code",
        "colab": {
          "base_uri": "https://localhost:8080/",
          "height": 71
        },
        "outputId": "c2f30eca-bc70-403b-f1f3-fb32d3c77ecb"
      },
      "source": [
        "#CODE: print list of image_prediction columns\n",
        "print(list(image_prediction_clean))\n",
        "\n",
        "#Delete columns\n",
        "image_prediction_clean = image_prediction_clean.drop(['img_num', 'p1', \n",
        "                                                      'p1_conf', 'p1_dog', \n",
        "                                                      'p2', 'p2_conf', \n",
        "                                                      'p2_dog', 'p3', \n",
        "                                                      'p3_conf', \n",
        "                                                      'p3_dog'], 1)\n",
        "\n",
        "#TEST\n",
        "list(image_prediction_clean)"
      ],
      "execution_count": 55,
      "outputs": [
        {
          "output_type": "stream",
          "text": [
            "['tweet_id', 'jpg_url', 'img_num', 'p1', 'p1_conf', 'p1_dog', 'p2', 'p2_conf', 'p2_dog', 'p3', 'p3_conf', 'p3_dog', 'dog_type', 'confidence_list']\n"
          ],
          "name": "stdout"
        },
        {
          "output_type": "execute_result",
          "data": {
            "text/plain": [
              "['tweet_id', 'jpg_url', 'dog_type', 'confidence_list']"
            ]
          },
          "metadata": {
            "tags": []
          },
          "execution_count": 55
        }
      ]
    },
    {
      "cell_type": "markdown",
      "metadata": {
        "id": "nt6cKqqhD5XX",
        "colab_type": "text"
      },
      "source": [
        "**10. Tweet_json** - keep 2174 original tweets "
      ]
    },
    {
      "cell_type": "code",
      "metadata": {
        "id": "eoPA23GJD5XY",
        "colab_type": "code",
        "colab": {
          "base_uri": "https://localhost:8080/",
          "height": 51
        },
        "outputId": "71bc69ba-b928-4fc3-a9fa-1fcd6a5182bc"
      },
      "source": [
        "#CODE:\n",
        "tweet_json_clean = tweet_json_clean[tweet_json_clean['retweeted_status'] == 'Original tweet']\n",
        "\n",
        "#TEST\n",
        "tweet_json_clean['retweeted_status'].value_counts()"
      ],
      "execution_count": 56,
      "outputs": [
        {
          "output_type": "execute_result",
          "data": {
            "text/plain": [
              "Original tweet    2167\n",
              "Name: retweeted_status, dtype: int64"
            ]
          },
          "metadata": {
            "tags": []
          },
          "execution_count": 56
        }
      ]
    },
    {
      "cell_type": "markdown",
      "metadata": {
        "id": "xQgP5GpXD5Xd",
        "colab_type": "text"
      },
      "source": [
        "**11. Tidiness** - Change tweet_id to type int64 in order to merge with the other 2 tables"
      ]
    },
    {
      "cell_type": "code",
      "metadata": {
        "id": "ytw2GVNzD5Xe",
        "colab_type": "code",
        "colab": {
          "base_uri": "https://localhost:8080/",
          "height": 34
        },
        "outputId": "13730d26-c623-42f1-a9c2-8d5acebc4a71"
      },
      "source": [
        "#CODE: change tweet_id from str to int\n",
        "tweet_json_clean['tweet_id'] = tweet_json_clean['tweet_id'].astype(int)\n",
        "\n",
        "#TEST\n",
        "tweet_json_clean['tweet_id'].dtypes"
      ],
      "execution_count": 57,
      "outputs": [
        {
          "output_type": "execute_result",
          "data": {
            "text/plain": [
              "dtype('int64')"
            ]
          },
          "metadata": {
            "tags": []
          },
          "execution_count": 57
        }
      ]
    },
    {
      "cell_type": "markdown",
      "metadata": {
        "id": "kFIA9UtfD5Xk",
        "colab_type": "text"
      },
      "source": [
        "**12. Tidiness** - All tables should be part of one dataset"
      ]
    },
    {
      "cell_type": "code",
      "metadata": {
        "id": "Z70OOZfQD5Xl",
        "colab_type": "code",
        "colab": {
          "base_uri": "https://localhost:8080/",
          "height": 357
        },
        "outputId": "b50a56b9-208e-4685-b83b-18b75d6f6fe1"
      },
      "source": [
        "#CODE: create a new dataframe that merge twitter_archive_clean and \n",
        "#image_prediction_clean\n",
        "df_twitter1 = pd.merge(twitter_archive_clean, \n",
        "                      image_prediction_clean, \n",
        "                      how = 'left', on = ['tweet_id'])\n",
        "\n",
        "#keep rows that have picture (jpg_url)\n",
        "df_twitter1 = df_twitter1[df_twitter1['jpg_url'].notnull()]\n",
        "\n",
        "#TEST\n",
        "df_twitter1.info()"
      ],
      "execution_count": 58,
      "outputs": [
        {
          "output_type": "stream",
          "text": [
            "<class 'pandas.core.frame.DataFrame'>\n",
            "Int64Index: 1625 entries, 1 to 2169\n",
            "Data columns (total 13 columns):\n",
            " #   Column              Non-Null Count  Dtype  \n",
            "---  ------              --------------  -----  \n",
            " 0   tweet_id            1625 non-null   int64  \n",
            " 1   text                1625 non-null   object \n",
            " 2   rating_numerator    1625 non-null   float64\n",
            " 3   rating_denominator  1625 non-null   float64\n",
            " 4   name                1625 non-null   object \n",
            " 5   dogs_stage          1625 non-null   object \n",
            " 6   year                1625 non-null   int64  \n",
            " 7   month               1625 non-null   int64  \n",
            " 8   day                 1625 non-null   int64  \n",
            " 9   rating              1625 non-null   float64\n",
            " 10  jpg_url             1625 non-null   object \n",
            " 11  dog_type            1625 non-null   object \n",
            " 12  confidence_list     1625 non-null   object \n",
            "dtypes: float64(3), int64(4), object(6)\n",
            "memory usage: 177.7+ KB\n"
          ],
          "name": "stdout"
        }
      ]
    },
    {
      "cell_type": "code",
      "metadata": {
        "id": "XGtNLWRBD5Xs",
        "colab_type": "code",
        "colab": {
          "base_uri": "https://localhost:8080/",
          "height": 476
        },
        "outputId": "23d37447-b705-44cd-a3bd-2fca99b712d4"
      },
      "source": [
        "#CODE: create a new dataframe that merge df_twitter and tweet_json_clean\n",
        "df_twitter = pd.merge(df_twitter1, tweet_json_clean, \n",
        "                      how = 'left', on = ['tweet_id'])\n",
        "\n",
        "#TEST\n",
        "df_twitter.info()"
      ],
      "execution_count": 59,
      "outputs": [
        {
          "output_type": "stream",
          "text": [
            "<class 'pandas.core.frame.DataFrame'>\n",
            "Int64Index: 1625 entries, 0 to 1624\n",
            "Data columns (total 20 columns):\n",
            " #   Column              Non-Null Count  Dtype  \n",
            "---  ------              --------------  -----  \n",
            " 0   tweet_id            1625 non-null   int64  \n",
            " 1   text                1625 non-null   object \n",
            " 2   rating_numerator    1625 non-null   float64\n",
            " 3   rating_denominator  1625 non-null   float64\n",
            " 4   name                1625 non-null   object \n",
            " 5   dogs_stage          1625 non-null   object \n",
            " 6   year                1625 non-null   int64  \n",
            " 7   month               1625 non-null   int64  \n",
            " 8   day                 1625 non-null   int64  \n",
            " 9   rating              1625 non-null   float64\n",
            " 10  jpg_url             1625 non-null   object \n",
            " 11  dog_type            1625 non-null   object \n",
            " 12  confidence_list     1625 non-null   object \n",
            " 13  favorite_count      1618 non-null   float64\n",
            " 14  retweet_count       1618 non-null   float64\n",
            " 15  followers_count     1618 non-null   float64\n",
            " 16  friends_count       1618 non-null   float64\n",
            " 17  source              1618 non-null   object \n",
            " 18  retweeted_status    1618 non-null   object \n",
            " 19  url                 1618 non-null   object \n",
            "dtypes: float64(7), int64(4), object(9)\n",
            "memory usage: 266.6+ KB\n"
          ],
          "name": "stdout"
        }
      ]
    },
    {
      "cell_type": "code",
      "metadata": {
        "id": "6HtxY9wrD5X0",
        "colab_type": "code",
        "colab": {
          "base_uri": "https://localhost:8080/",
          "height": 527
        },
        "outputId": "d248f183-a46f-4ef2-a48e-d692418d7e3c"
      },
      "source": [
        "df_twitter['rating_numerator'].value_counts()"
      ],
      "execution_count": 60,
      "outputs": [
        {
          "output_type": "execute_result",
          "data": {
            "text/plain": [
              "12.00     404\n",
              "10.00     354\n",
              "11.00     342\n",
              "13.00     212\n",
              "9.00      133\n",
              "8.00       68\n",
              "7.00       31\n",
              "14.00      22\n",
              "6.00       16\n",
              "5.00       13\n",
              "4.00        6\n",
              "3.00        5\n",
              "2.00        2\n",
              "13.50       2\n",
              "44.00       1\n",
              "143.00      1\n",
              "99.00       1\n",
              "45.00       1\n",
              "60.00       1\n",
              "144.00      1\n",
              "88.00       1\n",
              "84.00       1\n",
              "9.75        1\n",
              "0.00        1\n",
              "11.26       1\n",
              "165.00      1\n",
              "11.27       1\n",
              "121.00      1\n",
              "80.00       1\n",
              "Name: rating_numerator, dtype: int64"
            ]
          },
          "metadata": {
            "tags": []
          },
          "execution_count": 60
        }
      ]
    },
    {
      "cell_type": "markdown",
      "metadata": {
        "id": "XvSem9M2D5X8",
        "colab_type": "text"
      },
      "source": [
        "<a id='storing'></a>\n",
        "## Storing, Analyzing, and Visualizing Data"
      ]
    },
    {
      "cell_type": "code",
      "metadata": {
        "id": "XMXceC3VD5X9",
        "colab_type": "code",
        "colab": {}
      },
      "source": [
        "#Store the clean DataFrame in a CSV file\n",
        "df_twitter.to_csv('/content/twitter_archive_master.csv', \n",
        "                 index=False, encoding = 'utf-8')"
      ],
      "execution_count": 0,
      "outputs": []
    },
    {
      "cell_type": "markdown",
      "metadata": {
        "id": "oar4VQs7D5YC",
        "colab_type": "text"
      },
      "source": [
        "<a id='one'></a>\n",
        "### Insight one & visualization\n",
        "\n",
        "Golden retriever is the most common dog in this dataset."
      ]
    },
    {
      "cell_type": "code",
      "metadata": {
        "id": "rZqgsoXtD5YD",
        "colab_type": "code",
        "colab": {
          "base_uri": "https://localhost:8080/",
          "height": 221
        },
        "outputId": "d99e9d24-45a5-4b8d-eb18-fac053c1ae55"
      },
      "source": [
        "df_twitter['dog_type'].value_counts()"
      ],
      "execution_count": 63,
      "outputs": [
        {
          "output_type": "execute_result",
          "data": {
            "text/plain": [
              "golden_retriever        142\n",
              "Labrador_retriever      103\n",
              "Pembroke                 94\n",
              "Chihuahua                87\n",
              "pug                      60\n",
              "                       ... \n",
              "Irish_wolfhound           1\n",
              "silky_terrier             1\n",
              "Bouvier_des_Flandres      1\n",
              "Scotch_terrier            1\n",
              "standard_schnauzer        1\n",
              "Name: dog_type, Length: 113, dtype: int64"
            ]
          },
          "metadata": {
            "tags": []
          },
          "execution_count": 63
        }
      ]
    },
    {
      "cell_type": "code",
      "metadata": {
        "id": "JZV9yOKsD5YH",
        "colab_type": "code",
        "colab": {
          "base_uri": "https://localhost:8080/",
          "height": 295
        },
        "outputId": "d04f7948-d876-4ead-934f-3a4245b898bc"
      },
      "source": [
        "df_dog_type = df_twitter.groupby('dog_type').filter(lambda x: len(x) >= 25)\n",
        "df_dog_type['dog_type'].value_counts().plot(kind = 'barh')\n",
        "plt.title('Histogram of the Most Rated Dog Type')\n",
        "plt.xlabel('Count')\n",
        "plt.ylabel('Type of dog')\n",
        "fig = plt.gcf() \n",
        "fig.savefig('output.png',bbox_inches='tight');"
      ],
      "execution_count": 64,
      "outputs": [
        {
          "output_type": "display_data",
          "data": {
            "image/png": "[encoded data removed]",
            "text/plain": [
              "<Figure size 432x288 with 1 Axes>"
            ]
          },
          "metadata": {
            "tags": [],
            "needs_background": "light"
          }
        }
      ]
    },
    {
      "cell_type": "markdown",
      "metadata": {
        "id": "myQeU5g5D5YL",
        "colab_type": "text"
      },
      "source": [
        "<a id='two'></a>\n",
        "### Insight two"
      ]
    },
    {
      "cell_type": "code",
      "metadata": {
        "id": "HTtT4ZioD5YM",
        "colab_type": "code",
        "colab": {}
      },
      "source": [
        "df_dog_type_mean = df_twitter.groupby('dog_type').mean()\n"
      ],
      "execution_count": 0,
      "outputs": []
    },
    {
      "cell_type": "code",
      "metadata": {
        "id": "TX1cvsELD5YQ",
        "colab_type": "code",
        "colab": {
          "base_uri": "https://localhost:8080/",
          "height": 255
        },
        "outputId": "fb463bcc-028f-406a-ddc4-04366aca7a43"
      },
      "source": [
        "df_dog_type_mean.head()"
      ],
      "execution_count": 69,
      "outputs": [
        {
          "output_type": "execute_result",
          "data": {
            "text/html": [
              "<div>\n",
              "<style scoped>\n",
              "    .dataframe tbody tr th:only-of-type {\n",
              "        vertical-align: middle;\n",
              "    }\n",
              "\n",
              "    .dataframe tbody tr th {\n",
              "        vertical-align: top;\n",
              "    }\n",
              "\n",
              "    .dataframe thead th {\n",
              "        text-align: right;\n",
              "    }\n",
              "</style>\n",
              "<table border=\"1\" class=\"dataframe\">\n",
              "  <thead>\n",
              "    <tr style=\"text-align: right;\">\n",
              "      <th></th>\n",
              "      <th>tweet_id</th>\n",
              "      <th>rating_numerator</th>\n",
              "      <th>rating_denominator</th>\n",
              "      <th>year</th>\n",
              "      <th>month</th>\n",
              "      <th>day</th>\n",
              "      <th>rating</th>\n",
              "      <th>favorite_count</th>\n",
              "      <th>retweet_count</th>\n",
              "      <th>followers_count</th>\n",
              "      <th>friends_count</th>\n",
              "    </tr>\n",
              "    <tr>\n",
              "      <th>dog_type</th>\n",
              "      <th></th>\n",
              "      <th></th>\n",
              "      <th></th>\n",
              "      <th></th>\n",
              "      <th></th>\n",
              "      <th></th>\n",
              "      <th></th>\n",
              "      <th></th>\n",
              "      <th></th>\n",
              "      <th></th>\n",
              "      <th></th>\n",
              "    </tr>\n",
              "  </thead>\n",
              "  <tbody>\n",
              "    <tr>\n",
              "      <th>Afghan_hound</th>\n",
              "      <td>8.095999e+17</td>\n",
              "      <td>8.000000</td>\n",
              "      <td>10.0</td>\n",
              "      <td>2016.500000</td>\n",
              "      <td>6.00</td>\n",
              "      <td>16.000000</td>\n",
              "      <td>8.000000</td>\n",
              "      <td>11173.500000</td>\n",
              "      <td>3160.000000</td>\n",
              "      <td>8.756950e+06</td>\n",
              "      <td>15.0</td>\n",
              "    </tr>\n",
              "    <tr>\n",
              "      <th>Airedale</th>\n",
              "      <td>7.184489e+17</td>\n",
              "      <td>9.833333</td>\n",
              "      <td>10.0</td>\n",
              "      <td>2015.583333</td>\n",
              "      <td>8.75</td>\n",
              "      <td>15.916667</td>\n",
              "      <td>9.833333</td>\n",
              "      <td>4855.333333</td>\n",
              "      <td>1232.500000</td>\n",
              "      <td>8.757006e+06</td>\n",
              "      <td>15.0</td>\n",
              "    </tr>\n",
              "    <tr>\n",
              "      <th>American_Staffordshire_terrier</th>\n",
              "      <td>7.597284e+17</td>\n",
              "      <td>10.312500</td>\n",
              "      <td>10.0</td>\n",
              "      <td>2016.187500</td>\n",
              "      <td>5.25</td>\n",
              "      <td>15.000000</td>\n",
              "      <td>10.312500</td>\n",
              "      <td>7771.066667</td>\n",
              "      <td>1819.066667</td>\n",
              "      <td>8.756979e+06</td>\n",
              "      <td>15.0</td>\n",
              "    </tr>\n",
              "    <tr>\n",
              "      <th>Appenzeller</th>\n",
              "      <td>7.939334e+17</td>\n",
              "      <td>11.000000</td>\n",
              "      <td>10.0</td>\n",
              "      <td>2016.500000</td>\n",
              "      <td>4.50</td>\n",
              "      <td>18.500000</td>\n",
              "      <td>11.000000</td>\n",
              "      <td>6737.500000</td>\n",
              "      <td>1269.500000</td>\n",
              "      <td>8.756950e+06</td>\n",
              "      <td>15.0</td>\n",
              "    </tr>\n",
              "    <tr>\n",
              "      <th>Australian_terrier</th>\n",
              "      <td>7.785921e+17</td>\n",
              "      <td>11.500000</td>\n",
              "      <td>10.0</td>\n",
              "      <td>2016.500000</td>\n",
              "      <td>3.50</td>\n",
              "      <td>7.000000</td>\n",
              "      <td>11.500000</td>\n",
              "      <td>10260.000000</td>\n",
              "      <td>2745.500000</td>\n",
              "      <td>8.756951e+06</td>\n",
              "      <td>15.0</td>\n",
              "    </tr>\n",
              "  </tbody>\n",
              "</table>\n",
              "</div>"
            ],
            "text/plain": [
              "                                    tweet_id  ...  friends_count\n",
              "dog_type                                      ...               \n",
              "Afghan_hound                    8.095999e+17  ...           15.0\n",
              "Airedale                        7.184489e+17  ...           15.0\n",
              "American_Staffordshire_terrier  7.597284e+17  ...           15.0\n",
              "Appenzeller                     7.939334e+17  ...           15.0\n",
              "Australian_terrier              7.785921e+17  ...           15.0\n",
              "\n",
              "[5 rows x 11 columns]"
            ]
          },
          "metadata": {
            "tags": []
          },
          "execution_count": 69
        }
      ]
    },
    {
      "cell_type": "code",
      "metadata": {
        "id": "eTCoJU6hD5YU",
        "colab_type": "code",
        "colab": {
          "base_uri": "https://localhost:8080/",
          "height": 238
        },
        "outputId": "76962d37-f231-4a56-a195-c4076057120f"
      },
      "source": [
        "df_dog_type_sorted = df_dog_type_mean['rating'].sort_values()\n",
        "\n",
        "df_dog_type_sorted"
      ],
      "execution_count": 70,
      "outputs": [
        {
          "output_type": "execute_result",
          "data": {
            "text/plain": [
              "dog_type\n",
              "Japanese_spaniel                5.000000\n",
              "Afghan_hound                    8.000000\n",
              "soft-coated_wheaten_terrier     8.800000\n",
              "Walker_hound                    9.000000\n",
              "Scotch_terrier                  9.000000\n",
              "                                 ...    \n",
              "Border_terrier                 12.142857\n",
              "Irish_setter                   12.333333\n",
              "briard                         12.333333\n",
              "Saluki                         12.500000\n",
              "Bouvier_des_Flandres           13.000000\n",
              "Name: rating, Length: 113, dtype: float64"
            ]
          },
          "metadata": {
            "tags": []
          },
          "execution_count": 70
        }
      ]
    },
    {
      "cell_type": "code",
      "metadata": {
        "id": "vt0Xy-fAD5Ya",
        "colab_type": "code",
        "colab": {
          "base_uri": "https://localhost:8080/",
          "height": 51
        },
        "outputId": "223a63cc-f560-4029-93c2-1d828f5e174f"
      },
      "source": [
        "print(df_twitter.loc[df_twitter.dog_type == 'Japanese_spaniel', 'url']) "
      ],
      "execution_count": 71,
      "outputs": [
        {
          "output_type": "stream",
          "text": [
            "710    https://t.co/IoLRvF0Kak\n",
            "Name: url, dtype: object\n"
          ],
          "name": "stdout"
        }
      ]
    },
    {
      "cell_type": "code",
      "metadata": {
        "id": "-xPFBK9ND5Ye",
        "colab_type": "code",
        "colab": {
          "base_uri": "https://localhost:8080/",
          "height": 779
        },
        "outputId": "d6ebd0c7-b67e-4bab-e167-617abe5ac58e"
      },
      "source": [
        "df_twitter[df_twitter['dog_type'] == 'golden_retriever']"
      ],
      "execution_count": 72,
      "outputs": [
        {
          "output_type": "execute_result",
          "data": {
            "text/html": [
              "<div>\n",
              "<style scoped>\n",
              "    .dataframe tbody tr th:only-of-type {\n",
              "        vertical-align: middle;\n",
              "    }\n",
              "\n",
              "    .dataframe tbody tr th {\n",
              "        vertical-align: top;\n",
              "    }\n",
              "\n",
              "    .dataframe thead th {\n",
              "        text-align: right;\n",
              "    }\n",
              "</style>\n",
              "<table border=\"1\" class=\"dataframe\">\n",
              "  <thead>\n",
              "    <tr style=\"text-align: right;\">\n",
              "      <th></th>\n",
              "      <th>tweet_id</th>\n",
              "      <th>text</th>\n",
              "      <th>rating_numerator</th>\n",
              "      <th>rating_denominator</th>\n",
              "      <th>name</th>\n",
              "      <th>dogs_stage</th>\n",
              "      <th>year</th>\n",
              "      <th>month</th>\n",
              "      <th>day</th>\n",
              "      <th>rating</th>\n",
              "      <th>jpg_url</th>\n",
              "      <th>dog_type</th>\n",
              "      <th>confidence_list</th>\n",
              "      <th>favorite_count</th>\n",
              "      <th>retweet_count</th>\n",
              "      <th>followers_count</th>\n",
              "      <th>friends_count</th>\n",
              "      <th>source</th>\n",
              "      <th>retweeted_status</th>\n",
              "      <th>url</th>\n",
              "    </tr>\n",
              "  </thead>\n",
              "  <tbody>\n",
              "    <tr>\n",
              "      <th>8</th>\n",
              "      <td>667530908589760512</td>\n",
              "      <td>Meet Naphaniel. He doesn't necessarily enjoy h...</td>\n",
              "      <td>10.0</td>\n",
              "      <td>10.0</td>\n",
              "      <td>Naphaniel</td>\n",
              "      <td>None</td>\n",
              "      <td>2015</td>\n",
              "      <td>11</td>\n",
              "      <td>20</td>\n",
              "      <td>10.0</td>\n",
              "      <td>https://pbs.twimg.com/media/CUOL0uGUkAAx7yh.jpg</td>\n",
              "      <td>golden_retriever</td>\n",
              "      <td>0.633037</td>\n",
              "      <td>448.0</td>\n",
              "      <td>227.0</td>\n",
              "      <td>8757045.0</td>\n",
              "      <td>15.0</td>\n",
              "      <td>Twitter Web Client</td>\n",
              "      <td>Original tweet</td>\n",
              "      <td>https://t.co/xoRWyQTcmy</td>\n",
              "    </tr>\n",
              "    <tr>\n",
              "      <th>30</th>\n",
              "      <td>667044094246576128</td>\n",
              "      <td>12/10 gimme now https://t.co/QZAnwgnOMB</td>\n",
              "      <td>12.0</td>\n",
              "      <td>10.0</td>\n",
              "      <td>None</td>\n",
              "      <td>None</td>\n",
              "      <td>2015</td>\n",
              "      <td>11</td>\n",
              "      <td>18</td>\n",
              "      <td>12.0</td>\n",
              "      <td>https://pbs.twimg.com/media/CUHREBXXAAE6A9b.jpg</td>\n",
              "      <td>golden_retriever</td>\n",
              "      <td>0.765266</td>\n",
              "      <td>177.0</td>\n",
              "      <td>47.0</td>\n",
              "      <td>8757045.0</td>\n",
              "      <td>15.0</td>\n",
              "      <td>Twitter for iPhone</td>\n",
              "      <td>Original tweet</td>\n",
              "      <td>https://t.co/QZAnwgnOMB</td>\n",
              "    </tr>\n",
              "    <tr>\n",
              "      <th>37</th>\n",
              "      <td>667160273090932737</td>\n",
              "      <td>This is Bradlay. He is a Ronaldinho Matsuyama ...</td>\n",
              "      <td>11.0</td>\n",
              "      <td>10.0</td>\n",
              "      <td>Bradlay</td>\n",
              "      <td>None</td>\n",
              "      <td>2015</td>\n",
              "      <td>11</td>\n",
              "      <td>19</td>\n",
              "      <td>11.0</td>\n",
              "      <td>https://pbs.twimg.com/media/CUI6uuaW4AAvCIs.jpg</td>\n",
              "      <td>golden_retriever</td>\n",
              "      <td>0.471351</td>\n",
              "      <td>248.0</td>\n",
              "      <td>60.0</td>\n",
              "      <td>8757046.0</td>\n",
              "      <td>15.0</td>\n",
              "      <td>Twitter for iPhone</td>\n",
              "      <td>Original tweet</td>\n",
              "      <td>https://t.co/DKhgkMx4N1</td>\n",
              "    </tr>\n",
              "    <tr>\n",
              "      <th>43</th>\n",
              "      <td>667182792070062081</td>\n",
              "      <td>This is Timison. He just told an awful joke bu...</td>\n",
              "      <td>10.0</td>\n",
              "      <td>10.0</td>\n",
              "      <td>Timison</td>\n",
              "      <td>None</td>\n",
              "      <td>2015</td>\n",
              "      <td>11</td>\n",
              "      <td>19</td>\n",
              "      <td>10.0</td>\n",
              "      <td>https://pbs.twimg.com/media/CUJPNjOWsAAZRqP.jpg</td>\n",
              "      <td>golden_retriever</td>\n",
              "      <td>0.949892</td>\n",
              "      <td>13770.0</td>\n",
              "      <td>5887.0</td>\n",
              "      <td>8757046.0</td>\n",
              "      <td>15.0</td>\n",
              "      <td>Twitter for iPhone</td>\n",
              "      <td>Original tweet</td>\n",
              "      <td>https://t.co/s2yYuHabWl</td>\n",
              "    </tr>\n",
              "    <tr>\n",
              "      <th>46</th>\n",
              "      <td>667211855547486208</td>\n",
              "      <td>This is Genevieve. She is a golden retriever c...</td>\n",
              "      <td>9.0</td>\n",
              "      <td>10.0</td>\n",
              "      <td>Genevieve</td>\n",
              "      <td>None</td>\n",
              "      <td>2015</td>\n",
              "      <td>11</td>\n",
              "      <td>19</td>\n",
              "      <td>9.0</td>\n",
              "      <td>https://pbs.twimg.com/media/CUJppKJWoAA75NP.jpg</td>\n",
              "      <td>golden_retriever</td>\n",
              "      <td>0.462556</td>\n",
              "      <td>465.0</td>\n",
              "      <td>228.0</td>\n",
              "      <td>8757046.0</td>\n",
              "      <td>15.0</td>\n",
              "      <td>Twitter for iPhone</td>\n",
              "      <td>Original tweet</td>\n",
              "      <td>https://t.co/azEoGqVonH</td>\n",
              "    </tr>\n",
              "    <tr>\n",
              "      <th>...</th>\n",
              "      <td>...</td>\n",
              "      <td>...</td>\n",
              "      <td>...</td>\n",
              "      <td>...</td>\n",
              "      <td>...</td>\n",
              "      <td>...</td>\n",
              "      <td>...</td>\n",
              "      <td>...</td>\n",
              "      <td>...</td>\n",
              "      <td>...</td>\n",
              "      <td>...</td>\n",
              "      <td>...</td>\n",
              "      <td>...</td>\n",
              "      <td>...</td>\n",
              "      <td>...</td>\n",
              "      <td>...</td>\n",
              "      <td>...</td>\n",
              "      <td>...</td>\n",
              "      <td>...</td>\n",
              "      <td>...</td>\n",
              "    </tr>\n",
              "    <tr>\n",
              "      <th>1585</th>\n",
              "      <td>693262851218264065</td>\n",
              "      <td>I hope you guys enjoy this beautiful snowy pup...</td>\n",
              "      <td>11.0</td>\n",
              "      <td>10.0</td>\n",
              "      <td>None</td>\n",
              "      <td>pupper</td>\n",
              "      <td>2016</td>\n",
              "      <td>1</td>\n",
              "      <td>30</td>\n",
              "      <td>11.0</td>\n",
              "      <td>https://pbs.twimg.com/media/CZ724fDUYAAytS-.jpg</td>\n",
              "      <td>golden_retriever</td>\n",
              "      <td>0.989333</td>\n",
              "      <td>2224.0</td>\n",
              "      <td>499.0</td>\n",
              "      <td>8756978.0</td>\n",
              "      <td>15.0</td>\n",
              "      <td>Twitter for iPhone</td>\n",
              "      <td>Original tweet</td>\n",
              "      <td>https://t.co/DYUsHtL2aR</td>\n",
              "    </tr>\n",
              "    <tr>\n",
              "      <th>1588</th>\n",
              "      <td>675740360753160193</td>\n",
              "      <td>Here's a pupper licking in slow motion. 12/10 ...</td>\n",
              "      <td>12.0</td>\n",
              "      <td>10.0</td>\n",
              "      <td>None</td>\n",
              "      <td>pupper</td>\n",
              "      <td>2015</td>\n",
              "      <td>12</td>\n",
              "      <td>12</td>\n",
              "      <td>12.0</td>\n",
              "      <td>https://pbs.twimg.com/ext_tw_video_thumb/67574...</td>\n",
              "      <td>golden_retriever</td>\n",
              "      <td>0.800495</td>\n",
              "      <td>1145.0</td>\n",
              "      <td>337.0</td>\n",
              "      <td>8757042.0</td>\n",
              "      <td>15.0</td>\n",
              "      <td>Twitter for iPhone</td>\n",
              "      <td>Original tweet</td>\n",
              "      <td>https://t.co/AUJi8ujxw9</td>\n",
              "    </tr>\n",
              "    <tr>\n",
              "      <th>1598</th>\n",
              "      <td>759793422261743616</td>\n",
              "      <td>Meet Maggie &amp;amp; Lila. Maggie is the doggo, L...</td>\n",
              "      <td>12.0</td>\n",
              "      <td>10.0</td>\n",
              "      <td>Maggie</td>\n",
              "      <td>pupper</td>\n",
              "      <td>2016</td>\n",
              "      <td>7</td>\n",
              "      <td>31</td>\n",
              "      <td>12.0</td>\n",
              "      <td>https://pbs.twimg.com/media/CotUFZEWcAA2Pku.jpg</td>\n",
              "      <td>golden_retriever</td>\n",
              "      <td>0.985876</td>\n",
              "      <td>6045.0</td>\n",
              "      <td>1942.0</td>\n",
              "      <td>8756972.0</td>\n",
              "      <td>15.0</td>\n",
              "      <td>Twitter for iPhone</td>\n",
              "      <td>Original tweet</td>\n",
              "      <td>https://t.co/MYwR4DQKll</td>\n",
              "    </tr>\n",
              "    <tr>\n",
              "      <th>1615</th>\n",
              "      <td>859607811541651456</td>\n",
              "      <td>Sorry for the lack of posts today. I came home...</td>\n",
              "      <td>13.0</td>\n",
              "      <td>10.0</td>\n",
              "      <td>None</td>\n",
              "      <td>puppo</td>\n",
              "      <td>2017</td>\n",
              "      <td>5</td>\n",
              "      <td>3</td>\n",
              "      <td>13.0</td>\n",
              "      <td>https://pbs.twimg.com/media/C-3wvtxXcAUTuBE.jpg</td>\n",
              "      <td>golden_retriever</td>\n",
              "      <td>0.895529</td>\n",
              "      <td>18013.0</td>\n",
              "      <td>1491.0</td>\n",
              "      <td>8756924.0</td>\n",
              "      <td>15.0</td>\n",
              "      <td>Twitter for iPhone</td>\n",
              "      <td>Original tweet</td>\n",
              "      <td>https://t.co/GL6vzAbHrv</td>\n",
              "    </tr>\n",
              "    <tr>\n",
              "      <th>1617</th>\n",
              "      <td>889531135344209921</td>\n",
              "      <td>This is Stuart. He's sporting his favorite fan...</td>\n",
              "      <td>13.0</td>\n",
              "      <td>10.0</td>\n",
              "      <td>Stuart</td>\n",
              "      <td>puppo</td>\n",
              "      <td>2017</td>\n",
              "      <td>7</td>\n",
              "      <td>24</td>\n",
              "      <td>13.0</td>\n",
              "      <td>https://pbs.twimg.com/media/DFg_2PVW0AEHN3p.jpg</td>\n",
              "      <td>golden_retriever</td>\n",
              "      <td>0.953442</td>\n",
              "      <td>14263.0</td>\n",
              "      <td>2067.0</td>\n",
              "      <td>8756923.0</td>\n",
              "      <td>15.0</td>\n",
              "      <td>Twitter for iPhone</td>\n",
              "      <td>Original tweet</td>\n",
              "      <td>https://t.co/Ya3bdfYuCx</td>\n",
              "    </tr>\n",
              "  </tbody>\n",
              "</table>\n",
              "<p>142 rows × 20 columns</p>\n",
              "</div>"
            ],
            "text/plain": [
              "                tweet_id  ...                      url\n",
              "8     667530908589760512  ...  https://t.co/xoRWyQTcmy\n",
              "30    667044094246576128  ...  https://t.co/QZAnwgnOMB\n",
              "37    667160273090932737  ...  https://t.co/DKhgkMx4N1\n",
              "43    667182792070062081  ...  https://t.co/s2yYuHabWl\n",
              "46    667211855547486208  ...  https://t.co/azEoGqVonH\n",
              "...                  ...  ...                      ...\n",
              "1585  693262851218264065  ...  https://t.co/DYUsHtL2aR\n",
              "1588  675740360753160193  ...  https://t.co/AUJi8ujxw9\n",
              "1598  759793422261743616  ...  https://t.co/MYwR4DQKll\n",
              "1615  859607811541651456  ...  https://t.co/GL6vzAbHrv\n",
              "1617  889531135344209921  ...  https://t.co/Ya3bdfYuCx\n",
              "\n",
              "[142 rows x 20 columns]"
            ]
          },
          "metadata": {
            "tags": []
          },
          "execution_count": 72
        }
      ]
    },
    {
      "cell_type": "markdown",
      "metadata": {
        "id": "pSOXaouxD5Yi",
        "colab_type": "text"
      },
      "source": [
        "<a id='three'></a>\n",
        "### Insight three & visualization"
      ]
    },
    {
      "cell_type": "code",
      "metadata": {
        "id": "JdWqSVaFD5Yj",
        "colab_type": "code",
        "colab": {
          "base_uri": "https://localhost:8080/",
          "height": 470
        },
        "outputId": "87d2d5d4-4154-4880-e328-2fba0e012b2f"
      },
      "source": [
        "df_dog_type_count = df_twitter.groupby('dog_type').count()\n",
        "df_dog_type_count"
      ],
      "execution_count": 74,
      "outputs": [
        {
          "output_type": "execute_result",
          "data": {
            "text/html": [
              "<div>\n",
              "<style scoped>\n",
              "    .dataframe tbody tr th:only-of-type {\n",
              "        vertical-align: middle;\n",
              "    }\n",
              "\n",
              "    .dataframe tbody tr th {\n",
              "        vertical-align: top;\n",
              "    }\n",
              "\n",
              "    .dataframe thead th {\n",
              "        text-align: right;\n",
              "    }\n",
              "</style>\n",
              "<table border=\"1\" class=\"dataframe\">\n",
              "  <thead>\n",
              "    <tr style=\"text-align: right;\">\n",
              "      <th></th>\n",
              "      <th>tweet_id</th>\n",
              "      <th>text</th>\n",
              "      <th>rating_numerator</th>\n",
              "      <th>rating_denominator</th>\n",
              "      <th>name</th>\n",
              "      <th>dogs_stage</th>\n",
              "      <th>year</th>\n",
              "      <th>month</th>\n",
              "      <th>day</th>\n",
              "      <th>rating</th>\n",
              "      <th>jpg_url</th>\n",
              "      <th>confidence_list</th>\n",
              "      <th>favorite_count</th>\n",
              "      <th>retweet_count</th>\n",
              "      <th>followers_count</th>\n",
              "      <th>friends_count</th>\n",
              "      <th>source</th>\n",
              "      <th>retweeted_status</th>\n",
              "      <th>url</th>\n",
              "    </tr>\n",
              "    <tr>\n",
              "      <th>dog_type</th>\n",
              "      <th></th>\n",
              "      <th></th>\n",
              "      <th></th>\n",
              "      <th></th>\n",
              "      <th></th>\n",
              "      <th></th>\n",
              "      <th></th>\n",
              "      <th></th>\n",
              "      <th></th>\n",
              "      <th></th>\n",
              "      <th></th>\n",
              "      <th></th>\n",
              "      <th></th>\n",
              "      <th></th>\n",
              "      <th></th>\n",
              "      <th></th>\n",
              "      <th></th>\n",
              "      <th></th>\n",
              "      <th></th>\n",
              "    </tr>\n",
              "  </thead>\n",
              "  <tbody>\n",
              "    <tr>\n",
              "      <th>Afghan_hound</th>\n",
              "      <td>2</td>\n",
              "      <td>2</td>\n",
              "      <td>2</td>\n",
              "      <td>2</td>\n",
              "      <td>2</td>\n",
              "      <td>2</td>\n",
              "      <td>2</td>\n",
              "      <td>2</td>\n",
              "      <td>2</td>\n",
              "      <td>2</td>\n",
              "      <td>2</td>\n",
              "      <td>2</td>\n",
              "      <td>2</td>\n",
              "      <td>2</td>\n",
              "      <td>2</td>\n",
              "      <td>2</td>\n",
              "      <td>2</td>\n",
              "      <td>2</td>\n",
              "      <td>2</td>\n",
              "    </tr>\n",
              "    <tr>\n",
              "      <th>Airedale</th>\n",
              "      <td>12</td>\n",
              "      <td>12</td>\n",
              "      <td>12</td>\n",
              "      <td>12</td>\n",
              "      <td>12</td>\n",
              "      <td>12</td>\n",
              "      <td>12</td>\n",
              "      <td>12</td>\n",
              "      <td>12</td>\n",
              "      <td>12</td>\n",
              "      <td>12</td>\n",
              "      <td>12</td>\n",
              "      <td>12</td>\n",
              "      <td>12</td>\n",
              "      <td>12</td>\n",
              "      <td>12</td>\n",
              "      <td>12</td>\n",
              "      <td>12</td>\n",
              "      <td>12</td>\n",
              "    </tr>\n",
              "    <tr>\n",
              "      <th>American_Staffordshire_terrier</th>\n",
              "      <td>16</td>\n",
              "      <td>16</td>\n",
              "      <td>16</td>\n",
              "      <td>16</td>\n",
              "      <td>16</td>\n",
              "      <td>16</td>\n",
              "      <td>16</td>\n",
              "      <td>16</td>\n",
              "      <td>16</td>\n",
              "      <td>16</td>\n",
              "      <td>16</td>\n",
              "      <td>16</td>\n",
              "      <td>15</td>\n",
              "      <td>15</td>\n",
              "      <td>15</td>\n",
              "      <td>15</td>\n",
              "      <td>15</td>\n",
              "      <td>15</td>\n",
              "      <td>15</td>\n",
              "    </tr>\n",
              "    <tr>\n",
              "      <th>Appenzeller</th>\n",
              "      <td>2</td>\n",
              "      <td>2</td>\n",
              "      <td>2</td>\n",
              "      <td>2</td>\n",
              "      <td>2</td>\n",
              "      <td>2</td>\n",
              "      <td>2</td>\n",
              "      <td>2</td>\n",
              "      <td>2</td>\n",
              "      <td>2</td>\n",
              "      <td>2</td>\n",
              "      <td>2</td>\n",
              "      <td>2</td>\n",
              "      <td>2</td>\n",
              "      <td>2</td>\n",
              "      <td>2</td>\n",
              "      <td>2</td>\n",
              "      <td>2</td>\n",
              "      <td>2</td>\n",
              "    </tr>\n",
              "    <tr>\n",
              "      <th>Australian_terrier</th>\n",
              "      <td>2</td>\n",
              "      <td>2</td>\n",
              "      <td>2</td>\n",
              "      <td>2</td>\n",
              "      <td>2</td>\n",
              "      <td>2</td>\n",
              "      <td>2</td>\n",
              "      <td>2</td>\n",
              "      <td>2</td>\n",
              "      <td>2</td>\n",
              "      <td>2</td>\n",
              "      <td>2</td>\n",
              "      <td>2</td>\n",
              "      <td>2</td>\n",
              "      <td>2</td>\n",
              "      <td>2</td>\n",
              "      <td>2</td>\n",
              "      <td>2</td>\n",
              "      <td>2</td>\n",
              "    </tr>\n",
              "    <tr>\n",
              "      <th>...</th>\n",
              "      <td>...</td>\n",
              "      <td>...</td>\n",
              "      <td>...</td>\n",
              "      <td>...</td>\n",
              "      <td>...</td>\n",
              "      <td>...</td>\n",
              "      <td>...</td>\n",
              "      <td>...</td>\n",
              "      <td>...</td>\n",
              "      <td>...</td>\n",
              "      <td>...</td>\n",
              "      <td>...</td>\n",
              "      <td>...</td>\n",
              "      <td>...</td>\n",
              "      <td>...</td>\n",
              "      <td>...</td>\n",
              "      <td>...</td>\n",
              "      <td>...</td>\n",
              "      <td>...</td>\n",
              "    </tr>\n",
              "    <tr>\n",
              "      <th>toy_poodle</th>\n",
              "      <td>50</td>\n",
              "      <td>50</td>\n",
              "      <td>50</td>\n",
              "      <td>50</td>\n",
              "      <td>50</td>\n",
              "      <td>50</td>\n",
              "      <td>50</td>\n",
              "      <td>50</td>\n",
              "      <td>50</td>\n",
              "      <td>50</td>\n",
              "      <td>50</td>\n",
              "      <td>50</td>\n",
              "      <td>49</td>\n",
              "      <td>49</td>\n",
              "      <td>49</td>\n",
              "      <td>49</td>\n",
              "      <td>49</td>\n",
              "      <td>49</td>\n",
              "      <td>49</td>\n",
              "    </tr>\n",
              "    <tr>\n",
              "      <th>toy_terrier</th>\n",
              "      <td>3</td>\n",
              "      <td>3</td>\n",
              "      <td>3</td>\n",
              "      <td>3</td>\n",
              "      <td>3</td>\n",
              "      <td>3</td>\n",
              "      <td>3</td>\n",
              "      <td>3</td>\n",
              "      <td>3</td>\n",
              "      <td>3</td>\n",
              "      <td>3</td>\n",
              "      <td>3</td>\n",
              "      <td>3</td>\n",
              "      <td>3</td>\n",
              "      <td>3</td>\n",
              "      <td>3</td>\n",
              "      <td>3</td>\n",
              "      <td>3</td>\n",
              "      <td>3</td>\n",
              "    </tr>\n",
              "    <tr>\n",
              "      <th>vizsla</th>\n",
              "      <td>13</td>\n",
              "      <td>13</td>\n",
              "      <td>13</td>\n",
              "      <td>13</td>\n",
              "      <td>13</td>\n",
              "      <td>13</td>\n",
              "      <td>13</td>\n",
              "      <td>13</td>\n",
              "      <td>13</td>\n",
              "      <td>13</td>\n",
              "      <td>13</td>\n",
              "      <td>13</td>\n",
              "      <td>13</td>\n",
              "      <td>13</td>\n",
              "      <td>13</td>\n",
              "      <td>13</td>\n",
              "      <td>13</td>\n",
              "      <td>13</td>\n",
              "      <td>13</td>\n",
              "    </tr>\n",
              "    <tr>\n",
              "      <th>whippet</th>\n",
              "      <td>11</td>\n",
              "      <td>11</td>\n",
              "      <td>11</td>\n",
              "      <td>11</td>\n",
              "      <td>11</td>\n",
              "      <td>11</td>\n",
              "      <td>11</td>\n",
              "      <td>11</td>\n",
              "      <td>11</td>\n",
              "      <td>11</td>\n",
              "      <td>11</td>\n",
              "      <td>11</td>\n",
              "      <td>11</td>\n",
              "      <td>11</td>\n",
              "      <td>11</td>\n",
              "      <td>11</td>\n",
              "      <td>11</td>\n",
              "      <td>11</td>\n",
              "      <td>11</td>\n",
              "    </tr>\n",
              "    <tr>\n",
              "      <th>wire-haired_fox_terrier</th>\n",
              "      <td>2</td>\n",
              "      <td>2</td>\n",
              "      <td>2</td>\n",
              "      <td>2</td>\n",
              "      <td>2</td>\n",
              "      <td>2</td>\n",
              "      <td>2</td>\n",
              "      <td>2</td>\n",
              "      <td>2</td>\n",
              "      <td>2</td>\n",
              "      <td>2</td>\n",
              "      <td>2</td>\n",
              "      <td>2</td>\n",
              "      <td>2</td>\n",
              "      <td>2</td>\n",
              "      <td>2</td>\n",
              "      <td>2</td>\n",
              "      <td>2</td>\n",
              "      <td>2</td>\n",
              "    </tr>\n",
              "  </tbody>\n",
              "</table>\n",
              "<p>113 rows × 19 columns</p>\n",
              "</div>"
            ],
            "text/plain": [
              "                                tweet_id  text  ...  retweeted_status  url\n",
              "dog_type                                        ...                       \n",
              "Afghan_hound                           2     2  ...                 2    2\n",
              "Airedale                              12    12  ...                12   12\n",
              "American_Staffordshire_terrier        16    16  ...                15   15\n",
              "Appenzeller                            2     2  ...                 2    2\n",
              "Australian_terrier                     2     2  ...                 2    2\n",
              "...                                  ...   ...  ...               ...  ...\n",
              "toy_poodle                            50    50  ...                49   49\n",
              "toy_terrier                            3     3  ...                 3    3\n",
              "vizsla                                13    13  ...                13   13\n",
              "whippet                               11    11  ...                11   11\n",
              "wire-haired_fox_terrier                2     2  ...                 2    2\n",
              "\n",
              "[113 rows x 19 columns]"
            ]
          },
          "metadata": {
            "tags": []
          },
          "execution_count": 74
        }
      ]
    },
    {
      "cell_type": "code",
      "metadata": {
        "id": "ox9TzhjuD5Ys",
        "colab_type": "code",
        "colab": {
          "base_uri": "https://localhost:8080/",
          "height": 238
        },
        "outputId": "57cbf5e4-f7a0-4725-b862-bcb69d15fa4d"
      },
      "source": [
        "dog_type_count = df_dog_type_count['rating']\n",
        "dog_type_mean = df_dog_type_mean['rating']\n",
        "dog_type_mean"
      ],
      "execution_count": 76,
      "outputs": [
        {
          "output_type": "execute_result",
          "data": {
            "text/plain": [
              "dog_type\n",
              "Afghan_hound                       8.000000\n",
              "Airedale                           9.833333\n",
              "American_Staffordshire_terrier    10.312500\n",
              "Appenzeller                       11.000000\n",
              "Australian_terrier                11.500000\n",
              "                                    ...    \n",
              "toy_poodle                        11.020000\n",
              "toy_terrier                       10.333333\n",
              "vizsla                            10.846154\n",
              "whippet                           10.181818\n",
              "wire-haired_fox_terrier           11.500000\n",
              "Name: rating, Length: 113, dtype: float64"
            ]
          },
          "metadata": {
            "tags": []
          },
          "execution_count": 76
        }
      ]
    },
    {
      "cell_type": "code",
      "metadata": {
        "id": "OzDxpr6ZD5Yy",
        "colab_type": "code",
        "colab": {
          "base_uri": "https://localhost:8080/",
          "height": 450
        },
        "outputId": "9ef9748c-0b39-4c98-b877-213c1b7a6dd8"
      },
      "source": [
        "df = pd.DataFrame()\n",
        "df['dog_type_count'] = dog_type_count\n",
        "df['dog_type_mean'] = dog_type_mean\n",
        "df"
      ],
      "execution_count": 77,
      "outputs": [
        {
          "output_type": "execute_result",
          "data": {
            "text/html": [
              "<div>\n",
              "<style scoped>\n",
              "    .dataframe tbody tr th:only-of-type {\n",
              "        vertical-align: middle;\n",
              "    }\n",
              "\n",
              "    .dataframe tbody tr th {\n",
              "        vertical-align: top;\n",
              "    }\n",
              "\n",
              "    .dataframe thead th {\n",
              "        text-align: right;\n",
              "    }\n",
              "</style>\n",
              "<table border=\"1\" class=\"dataframe\">\n",
              "  <thead>\n",
              "    <tr style=\"text-align: right;\">\n",
              "      <th></th>\n",
              "      <th>dog_type_count</th>\n",
              "      <th>dog_type_mean</th>\n",
              "    </tr>\n",
              "    <tr>\n",
              "      <th>dog_type</th>\n",
              "      <th></th>\n",
              "      <th></th>\n",
              "    </tr>\n",
              "  </thead>\n",
              "  <tbody>\n",
              "    <tr>\n",
              "      <th>Afghan_hound</th>\n",
              "      <td>2</td>\n",
              "      <td>8.000000</td>\n",
              "    </tr>\n",
              "    <tr>\n",
              "      <th>Airedale</th>\n",
              "      <td>12</td>\n",
              "      <td>9.833333</td>\n",
              "    </tr>\n",
              "    <tr>\n",
              "      <th>American_Staffordshire_terrier</th>\n",
              "      <td>16</td>\n",
              "      <td>10.312500</td>\n",
              "    </tr>\n",
              "    <tr>\n",
              "      <th>Appenzeller</th>\n",
              "      <td>2</td>\n",
              "      <td>11.000000</td>\n",
              "    </tr>\n",
              "    <tr>\n",
              "      <th>Australian_terrier</th>\n",
              "      <td>2</td>\n",
              "      <td>11.500000</td>\n",
              "    </tr>\n",
              "    <tr>\n",
              "      <th>...</th>\n",
              "      <td>...</td>\n",
              "      <td>...</td>\n",
              "    </tr>\n",
              "    <tr>\n",
              "      <th>toy_poodle</th>\n",
              "      <td>50</td>\n",
              "      <td>11.020000</td>\n",
              "    </tr>\n",
              "    <tr>\n",
              "      <th>toy_terrier</th>\n",
              "      <td>3</td>\n",
              "      <td>10.333333</td>\n",
              "    </tr>\n",
              "    <tr>\n",
              "      <th>vizsla</th>\n",
              "      <td>13</td>\n",
              "      <td>10.846154</td>\n",
              "    </tr>\n",
              "    <tr>\n",
              "      <th>whippet</th>\n",
              "      <td>11</td>\n",
              "      <td>10.181818</td>\n",
              "    </tr>\n",
              "    <tr>\n",
              "      <th>wire-haired_fox_terrier</th>\n",
              "      <td>2</td>\n",
              "      <td>11.500000</td>\n",
              "    </tr>\n",
              "  </tbody>\n",
              "</table>\n",
              "<p>113 rows × 2 columns</p>\n",
              "</div>"
            ],
            "text/plain": [
              "                                dog_type_count  dog_type_mean\n",
              "dog_type                                                     \n",
              "Afghan_hound                                 2       8.000000\n",
              "Airedale                                    12       9.833333\n",
              "American_Staffordshire_terrier              16      10.312500\n",
              "Appenzeller                                  2      11.000000\n",
              "Australian_terrier                           2      11.500000\n",
              "...                                        ...            ...\n",
              "toy_poodle                                  50      11.020000\n",
              "toy_terrier                                  3      10.333333\n",
              "vizsla                                      13      10.846154\n",
              "whippet                                     11      10.181818\n",
              "wire-haired_fox_terrier                      2      11.500000\n",
              "\n",
              "[113 rows x 2 columns]"
            ]
          },
          "metadata": {
            "tags": []
          },
          "execution_count": 77
        }
      ]
    },
    {
      "cell_type": "code",
      "metadata": {
        "id": "sH5tb-QOD5Y4",
        "colab_type": "code",
        "colab": {
          "base_uri": "https://localhost:8080/",
          "height": 295
        },
        "outputId": "5b034fe0-02d6-4056-fd3b-42692138b4d7"
      },
      "source": [
        "df.plot(x='dog_type_count', y='dog_type_mean', kind='scatter')\n",
        "plt.xlabel('Number of Ratings of a Dog Type')\n",
        "plt.ylabel('Average Rating of Dog Type')\n",
        "plt.title('Average Rating of Dog Type by Number of Ratings of a Dog Type Scatter Plot')\n",
        "\n",
        "fig = plt.gcf()\n",
        "#plt.savefig('X:/' + newName + '.png', \n",
        "fig.savefig('output2.png',bbox_inches='tight');"
      ],
      "execution_count": 78,
      "outputs": [
        {
          "output_type": "display_data",
          "data": {
            "image/png": "[encoded data removed]",
            "text/plain": [
              "<Figure size 432x288 with 1 Axes>"
            ]
          },
          "metadata": {
            "tags": [],
            "needs_background": "light"
          }
        }
      ]
    },
    {
      "cell_type": "markdown",
      "metadata": {
        "id": "2cNki4Y5D5Y8",
        "colab_type": "text"
      },
      "source": [
        "<a id='four'></a>\n",
        "### Insight four & visualization"
      ]
    },
    {
      "cell_type": "code",
      "metadata": {
        "id": "Dmf2I3uLD5Y9",
        "colab_type": "code",
        "colab": {
          "base_uri": "https://localhost:8080/",
          "height": 295
        },
        "outputId": "34f49ef8-58c1-4f50-97d7-7ecb5bbcf1bf"
      },
      "source": [
        "df_twitter.plot(x='retweet_count', y='rating', kind='scatter')\n",
        "plt.xlabel('Retweet Counts')\n",
        "plt.ylabel('Ratings')\n",
        "plt.title('Retweet Counts by Ratings Scatter Plot')\n",
        "fig = plt.gcf()\n",
        "fig.savefig('output3.png',bbox_inches='tight');"
      ],
      "execution_count": 79,
      "outputs": [
        {
          "output_type": "display_data",
          "data": {
            "image/png": "[encoded data removed]",
            "text/plain": [
              "<Figure size 432x288 with 1 Axes>"
            ]
          },
          "metadata": {
            "tags": [],
            "needs_background": "light"
          }
        }
      ]
    },
    {
      "cell_type": "markdown",
      "metadata": {
        "id": "Bxc5hZ26PSTM",
        "colab_type": "text"
      },
      "source": [
        "## Finish\n"
      ]
    }
  ]
}